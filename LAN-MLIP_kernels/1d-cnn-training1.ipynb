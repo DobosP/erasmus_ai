{
 "cells": [
  {
   "cell_type": "code",
   "execution_count": 1,
   "metadata": {
    "_cell_guid": "b1076dfc-b9ad-4769-8c92-a6c4dae69d19",
    "_uuid": "8f2839f25d086af736a60e9eeb907d3b93b6e0e5"
   },
   "outputs": [
    {
     "name": "stderr",
     "output_type": "stream",
     "text": [
      "Using TensorFlow backend.\n"
     ]
    }
   ],
   "source": [
    "# Fix seeds\n",
    "#from numpy.random import seed\n",
    "#seed(1)\n",
    "#from tensorflow import set_random_seed\n",
    "#set_random_seed(2)\n",
    "\n",
    "import numpy as np \n",
    "import pandas as pd\n",
    "import os\n",
    "from tqdm import tqdm\n",
    "import time\n",
    "from IPython import display\n",
    "import matplotlib.pyplot as plt\n",
    "import matplotlib\n",
    "%matplotlib inline\n",
    "\n",
    "import tensorflow as tf\n",
    "import keras\n",
    "from keras import layers, models, activations\n",
    "\n"
   ]
  },
  {
   "cell_type": "code",
   "execution_count": 2,
   "metadata": {
    "_cell_guid": "79c7e3d0-c299-4dcb-8224-4455121ee9b0",
    "_uuid": "d629ff2d2480ee46fbb7e2d37f6b5fab8052498a"
   },
   "outputs": [],
   "source": [
    "# Import data\n",
    "data = pd.read_csv(\"../input/train.csv\", dtype={\"acoustic_data\": np.int16, \"time_to_failure\": np.float32}).values"
   ]
  },
  {
   "cell_type": "code",
   "execution_count": 3,
   "metadata": {},
   "outputs": [],
   "source": [
    "#len(data)\n",
    "data_len = 629145480\n",
    "segment_len = 150000"
   ]
  },
  {
   "cell_type": "code",
   "execution_count": 4,
   "metadata": {},
   "outputs": [
    {
     "name": "stdout",
     "output_type": "stream",
     "text": [
      "Train id from 75000000 to 553995480\n",
      "Num of Validation segments : 1000\n"
     ]
    }
   ],
   "source": [
    "# Get 1000 independent chunk of 150,000 sample as Validation Test: first and last 500\n",
    "\n",
    "val_id1 = np.arange(0,500)*segment_len\n",
    "\n",
    "val_id2 = np.sort(np.abs( (val_id1 - data_len) ) - segment_len)\n",
    "\n",
    "val_id = np.concatenate((val_id1, val_id2))\n",
    "\n",
    "train_id_m = val_id1[-1]+segment_len\n",
    "train_id_M = val_id2[0]-segment_len\n",
    "\n",
    "print(\"Train id from\",train_id_m,\"to\",train_id_M)\n",
    "print(\"Num of Validation segments :\",len(val_id))"
   ]
  },
  {
   "cell_type": "code",
   "execution_count": 5,
   "metadata": {},
   "outputs": [
    {
     "name": "stdout",
     "output_type": "stream",
     "text": [
      "3193.3032\n"
     ]
    }
   ],
   "source": [
    "# How many training segment?\n",
    "print((train_id_M-train_id_m)/segment_len)"
   ]
  },
  {
   "cell_type": "code",
   "execution_count": 6,
   "metadata": {},
   "outputs": [
    {
     "name": "stdout",
     "output_type": "stream",
     "text": [
      "[ 75000000  75150000  75300000 ... 553500000 553650000 553800000]\n",
      "3193\n"
     ]
    }
   ],
   "source": [
    "# train indexes\n",
    "\n",
    "train_id = np.arange(train_id_m, train_id_M-segment_len, segment_len, dtype=np.int)\n",
    "print(train_id)\n",
    "print(len(train_id))"
   ]
  },
  {
   "cell_type": "code",
   "execution_count": 7,
   "metadata": {},
   "outputs": [
    {
     "name": "stdout",
     "output_type": "stream",
     "text": [
      "195480\n"
     ]
    }
   ],
   "source": [
    "# what's the margin to slide the indexes?\n",
    "marg = train_id_M-train_id[-1]\n",
    "print(marg)"
   ]
  },
  {
   "cell_type": "code",
   "execution_count": 8,
   "metadata": {},
   "outputs": [
    {
     "name": "stdout",
     "output_type": "stream",
     "text": [
      "(544,)\n"
     ]
    }
   ],
   "source": [
    "# 19548 / 36\n",
    "slide = np.linspace(0, 19548, 544)\n",
    "print(slide.shape)\n"
   ]
  },
  {
   "cell_type": "code",
   "execution_count": 9,
   "metadata": {},
   "outputs": [],
   "source": [
    "# creat a useful dictionary structures for data generation\n",
    "\n",
    "partition = {}\n",
    "partition['train'] = train_id\n",
    "partition['validation'] = val_id"
   ]
  },
  {
   "cell_type": "code",
   "execution_count": 10,
   "metadata": {},
   "outputs": [],
   "source": [
    "class DataGenerator(keras.utils.Sequence):\n",
    "    'Generates data for Keras'\n",
    "    def __init__(self, list_IDs, Slide, batch_size=32, dim=150000, n_channels=1,\n",
    "                 n_classes=1, shuffle=True, train=True):\n",
    "        'Initialization'\n",
    "        self.dim = dim\n",
    "        self.batch_size = batch_size\n",
    "        self.list_IDs = list_IDs\n",
    "        self.Slide = Slide\n",
    "        self.n_channels = n_channels\n",
    "        self.n_classes = n_classes\n",
    "        self.shuffle = shuffle\n",
    "        self.train = train\n",
    "        self.on_epoch_end()\n",
    "\n",
    "    def __len__(self):\n",
    "        'Denotes the number of batches per epoch'\n",
    "        return int(np.floor(len(self.list_IDs) / self.batch_size))\n",
    "\n",
    "    def __getitem__(self, index):\n",
    "        'Generate one batch of data'\n",
    "        # Generate indexes of the batch\n",
    "        indexes = self.indexes[index*self.batch_size:(index+1)*self.batch_size]\n",
    "\n",
    "        # Find list of IDs\n",
    "        list_IDs_temp = [self.list_IDs[k] for k in indexes]\n",
    "\n",
    "        # Generate data\n",
    "        X, y = self.__data_generation(list_IDs_temp)\n",
    "\n",
    "        return X, y\n",
    "\n",
    "    def on_epoch_end(self):\n",
    "        'Updates indexes after each epoch'\n",
    "        self.indexes = np.arange(len(self.list_IDs))\n",
    "        if self.shuffle == True:\n",
    "            np.random.shuffle(self.indexes)\n",
    "\n",
    "    def __data_generation(self, list_IDs_temp):\n",
    "        'Generates data containing batch_size samples' \n",
    "        # Initialization\n",
    "        X = np.empty((self.batch_size, self.dim, self.n_channels), dtype=np.int16)\n",
    "        y = np.empty((self.batch_size, self.n_classes), dtype=np.float64)\n",
    "        off = 0\n",
    "        \n",
    "        if self.train:\n",
    "            off = np.random.choice(self.Slide) # generate a random offset\n",
    "        \n",
    "        # Generate data\n",
    "        for i, ID in enumerate(list_IDs_temp):\n",
    "            # Store sample\n",
    "            temp = data[ID+off :ID+off+150000 ,0]\n",
    "            X[i] = np.expand_dims(temp, axis=2)   \n",
    "           \n",
    "            # Store target labels\n",
    "            y[i] = data[ID+off+150000-1 ,1]\n",
    "\n",
    "        return X, y"
   ]
  },
  {
   "cell_type": "code",
   "execution_count": 11,
   "metadata": {},
   "outputs": [],
   "source": [
    "def build_neural_network(data_size_in, n_classes):\n",
    "        \n",
    "    inputs = layers.Input(shape=data_size_in)\n",
    "    \n",
    "    x = layers.Conv1D(kernel_size=5000, filters=8, activation='relu')(inputs)\n",
    "    \n",
    "    #x = layers.Conv1D(kernel_size=5000, filters=8, activation='relu')(x)\n",
    "    \n",
    "    x = layers.normalization.BatchNormalization()(x)\n",
    "    \n",
    "    x = layers.AveragePooling1D(pool_size=3)(x)\n",
    "    \n",
    "    x = layers.Conv1D(kernel_size=1000, filters=8, activation='relu')(x)\n",
    "    \n",
    "    #x = layers.Conv1D(kernel_size=1000, filters=8, activation='relu')(x)\n",
    "    \n",
    "    x = layers.normalization.BatchNormalization()(x)\n",
    "    \n",
    "    x = layers.AveragePooling1D(pool_size=3)(x)\n",
    "    \n",
    "    x = layers.Conv1D(kernel_size=500, filters=16, activation='relu')(x)\n",
    "    \n",
    "    #x = layers.Conv1D(kernel_size=500, filters=16, activation='relu')(x)\n",
    "    \n",
    "    x = layers.normalization.BatchNormalization()(x)\n",
    "    \n",
    "    x = layers.AveragePooling1D(pool_size=3)(x)\n",
    "    \n",
    "    x = layers.Conv1D(kernel_size=500, filters=16, activation='relu')(x)\n",
    "    \n",
    "    #x = layers.Conv1D(kernel_size=500, filters=16, activation='relu')(x)\n",
    "    \n",
    "    x = layers.normalization.BatchNormalization()(x)\n",
    "    \n",
    "    x = layers.AveragePooling1D(pool_size=3)(x)\n",
    "    \n",
    "    x = layers.Conv1D(kernel_size=150, filters=32, activation='relu')(x)\n",
    "    \n",
    "    #x = layers.Conv1D(kernel_size=150, filters=32, activation='relu')(x)\n",
    "    \n",
    "    x = layers.normalization.BatchNormalization()(x)\n",
    "    \n",
    "    x = layers.AveragePooling1D(pool_size=3)(x)\n",
    "    \n",
    "    x = layers.Conv1D(kernel_size=150, filters=64, activation='relu')(x)\n",
    "    \n",
    "    #x = layers.Conv1D(kernel_size=150, filters=64, activation='relu')(x)\n",
    "    \n",
    "    x = layers.normalization.BatchNormalization()(x)\n",
    "    \n",
    "    x = layers.MaxPool1D(pool_size=3)(x)\n",
    "    \n",
    "    x = layers.Flatten()(x)\n",
    "        \n",
    "    x = layers.Dense(units=500, activation='sigmoid')(x)\n",
    "    \n",
    "    x = layers.Dropout(rate=0.5)(x)\n",
    "    \n",
    "    x = layers.Dense(units=25, activation='relu')(x)\n",
    "    \n",
    "    predictions = layers.Dense(units=n_classes, activation='linear')(x)\n",
    "    \n",
    "    \n",
    "    model = keras.models.Model(inputs=inputs, outputs=predictions)\n",
    "    \n",
    "    \n",
    "    print(model.summary())\n",
    "    return model"
   ]
  },
  {
   "cell_type": "code",
   "execution_count": 12,
   "metadata": {},
   "outputs": [],
   "source": [
    "data_size_in=(150000,1)\n",
    "n_classes=1"
   ]
  },
  {
   "cell_type": "code",
   "execution_count": 13,
   "metadata": {},
   "outputs": [
    {
     "name": "stdout",
     "output_type": "stream",
     "text": [
      "WARNING:tensorflow:From /opt/conda/lib/python3.6/site-packages/tensorflow/python/framework/op_def_library.py:263: colocate_with (from tensorflow.python.framework.ops) is deprecated and will be removed in a future version.\n",
      "Instructions for updating:\n",
      "Colocations handled automatically by placer.\n"
     ]
    }
   ],
   "source": [
    "### Replace None with your code ###\n",
    "loss = 'mean_absolute_error'  \n",
    "learning_rate = 0.01 \n",
    "sgd = keras.optimizers.SGD(lr=learning_rate, decay=1e-6, momentum=0.9, nesterov=True)\n",
    "metrics = [keras.metrics.mae]"
   ]
  },
  {
   "cell_type": "code",
   "execution_count": 14,
   "metadata": {},
   "outputs": [
    {
     "name": "stdout",
     "output_type": "stream",
     "text": [
      "WARNING:tensorflow:From /opt/conda/lib/python3.6/site-packages/keras/backend/tensorflow_backend.py:3445: calling dropout (from tensorflow.python.ops.nn_ops) with keep_prob is deprecated and will be removed in a future version.\n",
      "Instructions for updating:\n",
      "Please use `rate` instead of `keep_prob`. Rate should be set to `rate = 1 - keep_prob`.\n",
      "_________________________________________________________________\n",
      "Layer (type)                 Output Shape              Param #   \n",
      "=================================================================\n",
      "input_1 (InputLayer)         (None, 150000, 1)         0         \n",
      "_________________________________________________________________\n",
      "conv1d_1 (Conv1D)            (None, 145001, 8)         40008     \n",
      "_________________________________________________________________\n",
      "batch_normalization_1 (Batch (None, 145001, 8)         32        \n",
      "_________________________________________________________________\n",
      "average_pooling1d_1 (Average (None, 48333, 8)          0         \n",
      "_________________________________________________________________\n",
      "conv1d_2 (Conv1D)            (None, 47334, 8)          64008     \n",
      "_________________________________________________________________\n",
      "batch_normalization_2 (Batch (None, 47334, 8)          32        \n",
      "_________________________________________________________________\n",
      "average_pooling1d_2 (Average (None, 15778, 8)          0         \n",
      "_________________________________________________________________\n",
      "conv1d_3 (Conv1D)            (None, 15279, 16)         64016     \n",
      "_________________________________________________________________\n",
      "batch_normalization_3 (Batch (None, 15279, 16)         64        \n",
      "_________________________________________________________________\n",
      "average_pooling1d_3 (Average (None, 5093, 16)          0         \n",
      "_________________________________________________________________\n",
      "conv1d_4 (Conv1D)            (None, 4594, 16)          128016    \n",
      "_________________________________________________________________\n",
      "batch_normalization_4 (Batch (None, 4594, 16)          64        \n",
      "_________________________________________________________________\n",
      "average_pooling1d_4 (Average (None, 1531, 16)          0         \n",
      "_________________________________________________________________\n",
      "conv1d_5 (Conv1D)            (None, 1382, 32)          76832     \n",
      "_________________________________________________________________\n",
      "batch_normalization_5 (Batch (None, 1382, 32)          128       \n",
      "_________________________________________________________________\n",
      "average_pooling1d_5 (Average (None, 460, 32)           0         \n",
      "_________________________________________________________________\n",
      "conv1d_6 (Conv1D)            (None, 311, 64)           307264    \n",
      "_________________________________________________________________\n",
      "batch_normalization_6 (Batch (None, 311, 64)           256       \n",
      "_________________________________________________________________\n",
      "max_pooling1d_1 (MaxPooling1 (None, 103, 64)           0         \n",
      "_________________________________________________________________\n",
      "flatten_1 (Flatten)          (None, 6592)              0         \n",
      "_________________________________________________________________\n",
      "dense_1 (Dense)              (None, 500)               3296500   \n",
      "_________________________________________________________________\n",
      "dropout_1 (Dropout)          (None, 500)               0         \n",
      "_________________________________________________________________\n",
      "dense_2 (Dense)              (None, 25)                12525     \n",
      "_________________________________________________________________\n",
      "dense_3 (Dense)              (None, 1)                 26        \n",
      "=================================================================\n",
      "Total params: 3,989,771\n",
      "Trainable params: 3,989,483\n",
      "Non-trainable params: 288\n",
      "_________________________________________________________________\n",
      "None\n"
     ]
    }
   ],
   "source": [
    "network = build_neural_network(data_size_in, n_classes)\n",
    "network.compile(loss=loss, optimizer=sgd, metrics=metrics)"
   ]
  },
  {
   "cell_type": "code",
   "execution_count": 15,
   "metadata": {},
   "outputs": [],
   "source": [
    "def train_network(network, training_generator, validation_generator, n_epoch, network_filepath):\n",
    "\n",
    "\n",
    "    \n",
    "    # lists where we will be storing values during training, for visualization purposes\n",
    "    tra_losses = [] # list for training loss\n",
    "    tra_accs = [] # list for training accuracy\n",
    "    val_losses = [] # list for validation loss\n",
    "    val_accs = [] # list for validation accuracy\n",
    "\n",
    "    # we want to save the parameters that give the best performance on the validation set\n",
    "    # therefore, we store the best validation accuracy, and save the parameters to disk\n",
    "    best_validation_accuracy = 100000000 # best validation accuracy\n",
    "\n",
    "    for epoch in range(n_epoch):\n",
    "        st = time.time()\n",
    "\n",
    "        # Train your network\n",
    "        results = network.fit_generator(training_generator)\n",
    "\n",
    "        # Get training loss and accuracy\n",
    "        training_loss = results.history['loss']\n",
    "        training_accuracy = results.history['mean_absolute_error']\n",
    "\n",
    "        # Add to list\n",
    "        tra_losses.append(training_loss)\n",
    "        tra_accs.append(training_accuracy)\n",
    "\n",
    "        # Evaluate performance (loss and accuracy) on validation set\n",
    "        scores = network.evaluate_generator(validation_generator)     \n",
    "        validation_loss = scores[0]\n",
    "        validation_accuracy = scores[1]\n",
    "\n",
    "        # Add to list\n",
    "        val_losses.append(validation_loss)\n",
    "        val_accs.append(validation_accuracy)\n",
    "\n",
    "        # (Possibly) update best validation accuracy and save the network\n",
    "        if validation_accuracy < best_validation_accuracy:\n",
    "            best_validation_accuracy = validation_accuracy\n",
    "            network.save(network_filepath)\n",
    "\n",
    "        # Visualization of the learning curves\n",
    "        fig = plt.figure(figsize=(10, 5))\n",
    "        tra_loss_plt, = plt.plot(range(len(tra_losses)), tra_losses, 'b')\n",
    "        tra_accs_plt, = plt.plot(range(len(tra_accs)), tra_accs, 'c')\n",
    "        val_loss_plt, = plt.plot(range(len(val_losses)), val_losses, 'g')\n",
    "        val_acc_plt, = plt.plot(range(len(val_accs)), val_accs, 'r')\n",
    "        plt.xlabel('epoch')\n",
    "        plt.ylabel('loss')\n",
    "        plt.legend([tra_loss_plt, tra_accs_plt, val_loss_plt, val_acc_plt], \n",
    "                  ['training loss', 'training accuracy', 'validation loss', 'validation accuracy'],\n",
    "                  loc='center left', bbox_to_anchor=(1, 0.5))\n",
    "        plt.title('Best validation mae = {:.2f}'.format(best_validation_accuracy))\n",
    "        display.clear_output(wait=True)\n",
    "        display.display(plt.gcf())\n",
    "        time.sleep(.2)"
   ]
  },
  {
   "cell_type": "code",
   "execution_count": 16,
   "metadata": {},
   "outputs": [],
   "source": [
    "# Define batch size.\n",
    "batch_size = 32\n",
    "n_epoch = 50\n",
    "slide = np.linspace(0, 19548, 544, dtype=np.int)\n",
    "\n",
    "\n",
    "# Parameters\n",
    "params = {'Slide' : slide,\n",
    "          'dim': 150000,\n",
    "          'batch_size': batch_size,\n",
    "          'n_classes': 1,\n",
    "          'shuffle': True}\n",
    "\n",
    "# Generators\n",
    "training_generator = DataGenerator(partition['train'], **params, train = True)\n",
    "validation_generator = DataGenerator(partition['validation'], **params, train = False)"
   ]
  },
  {
   "cell_type": "code",
   "execution_count": 17,
   "metadata": {},
   "outputs": [],
   "source": [
    "file_dir = '../working//Model'\n",
    "network_filepath = os.path.join(file_dir, 'best_model.h5')\n",
    "os.mkdir(file_dir)"
   ]
  },
  {
   "cell_type": "code",
   "execution_count": 18,
   "metadata": {},
   "outputs": [
    {
     "data": {
      "image/png": "[encoded data removed]",
      "text/plain": [
       "<Figure size 720x360 with 1 Axes>"
      ]
     },
     "metadata": {},
     "output_type": "display_data"
    },
    {
     "name": "stdout",
     "output_type": "stream",
     "text": [
      "Epoch 1/1\n",
      "65/99 [==================>...........] - ETA: 57s - loss: 2.0732 - mean_absolute_error: 2.0732"
     ]
    }
   ],
   "source": [
    "train_network(network, training_generator, validation_generator, n_epoch, network_filepath)"
   ]
  },
  {
   "cell_type": "code",
   "execution_count": 19,
   "metadata": {},
   "outputs": [],
   "source": [
    "#### Re-load the model found for the best accuracy; load_model function takes care of compiling again the function \n",
    "\n",
    "#best_network=keras.models.load_model(network_filepath)"
   ]
  },
  {
   "cell_type": "code",
   "execution_count": 20,
   "metadata": {},
   "outputs": [],
   "source": [
    "#test = np.empty((2624,150000,1), dtype=np.float)\n",
    "#for i, seg in enumerate(os.listdir(\"../input/test/\")):\n",
    "#    test[i] = pd.read_csv(\"../input/test/\"+seg).values\n",
    "    "
   ]
  },
  {
   "cell_type": "code",
   "execution_count": 21,
   "metadata": {},
   "outputs": [],
   "source": [
    "#pred = best_network.predict_on_batch(test)"
   ]
  }
 ],
 "metadata": {
  "kernelspec": {
   "display_name": "Python 3",
   "language": "python",
   "name": "python3"
  },
  "language_info": {
   "codemirror_mode": {
    "name": "ipython",
    "version": 3
   },
   "file_extension": ".py",
   "mimetype": "text/x-python",
   "name": "python",
   "nbconvert_exporter": "python",
   "pygments_lexer": "ipython3",
   "version": "3.6.4"
  }
 },
 "nbformat": 4,
 "nbformat_minor": 1
}
