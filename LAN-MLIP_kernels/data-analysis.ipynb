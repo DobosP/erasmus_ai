{
 "cells": [
  {
   "cell_type": "code",
   "execution_count": 1,
   "metadata": {
    "_cell_guid": "b1076dfc-b9ad-4769-8c92-a6c4dae69d19",
    "_uuid": "8f2839f25d086af736a60e9eeb907d3b93b6e0e5"
   },
   "outputs": [
    {
     "name": "stdout",
     "output_type": "stream",
     "text": [
      "['test', 'sample_submission.csv', 'train.csv']\n"
     ]
    }
   ],
   "source": [
    "import os\n",
    "import numpy as np # linear algebra\n",
    "import pandas as pd # data processing, CSV file I/O (e.g. pd.read_csv)\n",
    "from random import shuffle\n",
    "import matplotlib.pyplot as plt\n",
    "import numba\n",
    "import seaborn as sns\n",
    "\n",
    "# References: \n",
    "# https://www.kaggle.com/jsaguiar/seismic-data-exploration \n",
    "# https://www.kaggle.com/eylulyalcinkaya/exploratory-data-analysis\n",
    "# Input data files are available in the \"../input/\" directory.\n",
    "# For example, running this (by clicking run or pressing Shift+Enter) will list the files in the input directory\n",
    "\n",
    "print(os.listdir(\"../input\"))"
   ]
  },
  {
   "cell_type": "markdown",
   "metadata": {},
   "source": [
    "<h2>2. Test data</h2>\n",
    "\n",
    "Each file from test folder corresponds to one prediction, i.e., seg_id from sample_submission."
   ]
  },
  {
   "cell_type": "code",
   "execution_count": 2,
   "metadata": {},
   "outputs": [
    {
     "name": "stdout",
     "output_type": "stream",
     "text": [
      "\n",
      "Number of files in the test folder 2624\n"
     ]
    }
   ],
   "source": [
    "test_folder_files = os.listdir(\"../input/test\")\n",
    "\n",
    "print(\"\\nNumber of files in the test folder\", len(test_folder_files))"
   ]
  },
  {
   "cell_type": "markdown",
   "metadata": {},
   "source": [
    "<h2>2. Training data</h2>\n",
    "\n",
    "All the training data available in a csv file, with two columns:\n",
    "* Acoustic data (int16): the seismic signal\n",
    "* Time to failure (float64): the time until the next laboratory earthquake  (in seconds)"
   ]
  },
  {
   "cell_type": "code",
   "execution_count": 3,
   "metadata": {
    "_cell_guid": "79c7e3d0-c299-4dcb-8224-4455121ee9b0",
    "_uuid": "d629ff2d2480ee46fbb7e2d37f6b5fab8052498a"
   },
   "outputs": [
    {
     "name": "stdout",
     "output_type": "stream",
     "text": [
      "train shape (629145480, 2)\n"
     ]
    },
    {
     "data": {
      "text/html": [
       "<div>\n",
       "<style scoped>\n",
       "    .dataframe tbody tr th:only-of-type {\n",
       "        vertical-align: middle;\n",
       "    }\n",
       "\n",
       "    .dataframe tbody tr th {\n",
       "        vertical-align: top;\n",
       "    }\n",
       "\n",
       "    .dataframe thead th {\n",
       "        text-align: right;\n",
       "    }\n",
       "</style>\n",
       "<table border=\"1\" class=\"dataframe\">\n",
       "  <thead>\n",
       "    <tr style=\"text-align: right;\">\n",
       "      <th></th>\n",
       "      <th>acoustic_data</th>\n",
       "      <th>time_to_failure</th>\n",
       "    </tr>\n",
       "  </thead>\n",
       "  <tbody>\n",
       "    <tr>\n",
       "      <th>0</th>\n",
       "      <td>12</td>\n",
       "      <td>1.4690999832</td>\n",
       "    </tr>\n",
       "    <tr>\n",
       "      <th>1</th>\n",
       "      <td>6</td>\n",
       "      <td>1.4690999821</td>\n",
       "    </tr>\n",
       "    <tr>\n",
       "      <th>2</th>\n",
       "      <td>8</td>\n",
       "      <td>1.4690999810</td>\n",
       "    </tr>\n",
       "    <tr>\n",
       "      <th>3</th>\n",
       "      <td>5</td>\n",
       "      <td>1.4690999799</td>\n",
       "    </tr>\n",
       "    <tr>\n",
       "      <th>4</th>\n",
       "      <td>8</td>\n",
       "      <td>1.4690999788</td>\n",
       "    </tr>\n",
       "  </tbody>\n",
       "</table>\n",
       "</div>"
      ],
      "text/plain": [
       "   acoustic_data  time_to_failure\n",
       "0             12     1.4690999832\n",
       "1              6     1.4690999821\n",
       "2              8     1.4690999810\n",
       "3              5     1.4690999799\n",
       "4              8     1.4690999788"
      ]
     },
     "execution_count": 3,
     "metadata": {},
     "output_type": "execute_result"
    }
   ],
   "source": [
    "train = pd.read_csv('../input/train.csv', dtype={'acoustic_data': np.int16, 'time_to_failure': np.float64})\n",
    "print(\"train shape\", train.shape)\n",
    "pd.set_option(\"display.precision\", 15)  # show more decimals\n",
    "train.head()"
   ]
  },
  {
   "cell_type": "code",
   "execution_count": 4,
   "metadata": {},
   "outputs": [
    {
     "data": {
      "text/plain": [
       "count    6.291454800000000e+08\n",
       "mean     4.519467573700124e+00\n",
       "std      1.073570724951096e+01\n",
       "min     -5.515000000000000e+03\n",
       "25%      2.000000000000000e+00\n",
       "50%      5.000000000000000e+00\n",
       "75%      7.000000000000000e+00\n",
       "max      5.444000000000000e+03\n",
       "Name: acoustic_data, dtype: float64"
      ]
     },
     "execution_count": 4,
     "metadata": {},
     "output_type": "execute_result"
    }
   ],
   "source": [
    "train.acoustic_data.describe()\n"
   ]
  },
  {
   "cell_type": "markdown",
   "metadata": {},
   "source": [
    "The time to failure (target value), in seconds, has max 16 seconds and minimum 1e-5 (approx. 0) "
   ]
  },
  {
   "cell_type": "code",
   "execution_count": 5,
   "metadata": {},
   "outputs": [],
   "source": [
    "@numba.jit\n",
    "def get_stats(arr):\n",
    "    \"\"\"Memory efficient stats (min, max and mean). \"\"\"\n",
    "    size  = len(arr)\n",
    "    min_value = max_value = arr[0]\n",
    "    mean_value = 0\n",
    "    for i in numba.prange(size):\n",
    "        if arr[i] < min_value:\n",
    "            min_value = arr[i]\n",
    "        if arr[i] > max_value:\n",
    "            max_value = arr[i]\n",
    "        mean_value += arr[i]\n",
    "    return min_value, max_value, mean_value/size"
   ]
  },
  {
   "cell_type": "code",
   "execution_count": 6,
   "metadata": {},
   "outputs": [
    {
     "name": "stdout",
     "output_type": "stream",
     "text": [
      "min value: -5515.000000, max value: 5444.00, mean: 4.5195\n"
     ]
    }
   ],
   "source": [
    "tmin, tmax, tmean = get_stats(train.acoustic_data.values)\n",
    "print(\"min value: {:.6f}, max value: {:.2f}, mean: {:.4f}\".format(tmin, tmax, tmean))"
   ]
  },
  {
   "cell_type": "code",
   "execution_count": 7,
   "metadata": {},
   "outputs": [
    {
     "name": "stdout",
     "output_type": "stream",
     "text": [
      "min value: 0.000096, max value: 16.11, mean: 5.6783\n"
     ]
    }
   ],
   "source": [
    "tmin, tmax, tmean = get_stats(train.time_to_failure.values)\n",
    "print(\"min value: {:.6f}, max value: {:.2f}, mean: {:.4f}\".format(tmin, tmax, tmean))"
   ]
  },
  {
   "cell_type": "markdown",
   "metadata": {},
   "source": [
    "Plot all the data (629.145 million rows): (https://www.kaggle.com/jsaguiar/seismic-data-exploration)"
   ]
  },
  {
   "cell_type": "code",
   "execution_count": 8,
   "metadata": {},
   "outputs": [],
   "source": [
    "def single_timeseries(final_idx, init_idx=0, step=1, title=\"\",\n",
    "                      color1='orange', color2='g'):\n",
    "    idx = [i for i in range(init_idx, final_idx, step)]\n",
    "    fig, ax1 = plt.subplots(figsize=(10, 5))\n",
    "    fig.suptitle(title, fontsize=14)\n",
    "    \n",
    "    ax2 = ax1.twinx()\n",
    "    ax1.set_xlabel('index')\n",
    "    ax1.set_ylabel('Acoustic data')\n",
    "    ax2.set_ylabel('Time to failure')\n",
    "    p1 = sns.lineplot(data=train.iloc[idx].acoustic_data.values, ax=ax1, color=color1)\n",
    "    p2 = sns.lineplot(data=train.iloc[idx].time_to_failure.values, ax=ax2, color=color2)"
   ]
  },
  {
   "cell_type": "markdown",
   "metadata": {},
   "source": [
    "Observe that signal peaks usually happen before an earthquake.\n",
    "There are 16 earthquakes in the training data. The shortest time to failure is 1.5 seconds for the first earthquake, while the longest is around 16 seconds."
   ]
  },
  {
   "cell_type": "code",
   "execution_count": 9,
   "metadata": {},
   "outputs": [
    {
     "data": {
      "image/png": "[encoded data removed]",
      "text/plain": [
       "<Figure size 720x360 with 2 Axes>"
      ]
     },
     "metadata": {},
     "output_type": "display_data"
    }
   ],
   "source": [
    "single_timeseries(629145000, step=1000, title=\"Signal and time to failure with all training data\")"
   ]
  }
 ],
 "metadata": {
  "kernelspec": {
   "display_name": "Python 3",
   "language": "python",
   "name": "python3"
  },
  "language_info": {
   "codemirror_mode": {
    "name": "ipython",
    "version": 3
   },
   "file_extension": ".py",
   "mimetype": "text/x-python",
   "name": "python",
   "nbconvert_exporter": "python",
   "pygments_lexer": "ipython3",
   "version": "3.6.4"
  }
 },
 "nbformat": 4,
 "nbformat_minor": 1
}
