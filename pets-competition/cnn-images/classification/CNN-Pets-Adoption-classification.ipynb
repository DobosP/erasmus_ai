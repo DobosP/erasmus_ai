{
 "cells": [
  {
   "cell_type": "code",
   "execution_count": 7,
   "metadata": {},
   "outputs": [],
   "source": [
    "# Convolutional Neural Network\n",
    " \n",
    "# Installing Theano\n",
    "# pip install --upgrade --no-deps git+git://github.com/Theano/Theano.git\n",
    " \n",
    "# Installing Tensorflow\n",
    "# Install Tensorflow from the website: https://www.tensorflow.org/versions/r0.12/get_started/os_setup.html\n",
    " \n",
    "# Installing Keras\n",
    "# pip install --upgrade keras\n",
    "\n",
    "CATEGORY_PATH = 'C:/Users/madad/Documents/dataset/images/resized-classif/'\n",
    "CSV_PATH = 'C:/Users/madad/Documents/dataset/train.csv'"
   ]
  },
  {
   "cell_type": "code",
   "execution_count": 8,
   "metadata": {},
   "outputs": [
    {
     "name": "stderr",
     "output_type": "stream",
     "text": [
      "Using TensorFlow backend.\n"
     ]
    },
    {
     "name": "stdout",
     "output_type": "stream",
     "text": [
      "_________________________________________________________________\n",
      "Layer (type)                 Output Shape              Param #   \n",
      "=================================================================\n",
      "conv2d_1 (Conv2D)            (None, 62, 62, 20)        560       \n",
      "_________________________________________________________________\n",
      "max_pooling2d_1 (MaxPooling2 (None, 31, 31, 20)        0         \n",
      "_________________________________________________________________\n",
      "conv2d_2 (Conv2D)            (None, 29, 29, 20)        3620      \n",
      "_________________________________________________________________\n",
      "max_pooling2d_2 (MaxPooling2 (None, 14, 14, 20)        0         \n",
      "_________________________________________________________________\n",
      "flatten_1 (Flatten)          (None, 3920)              0         \n",
      "_________________________________________________________________\n",
      "dense_1 (Dense)              (None, 128)               501888    \n",
      "_________________________________________________________________\n",
      "dense_2 (Dense)              (None, 5)                 645       \n",
      "=================================================================\n",
      "Total params: 506,713\n",
      "Trainable params: 506,713\n",
      "Non-trainable params: 0\n",
      "_________________________________________________________________\n",
      "None\n"
     ]
    },
    {
     "name": "stderr",
     "output_type": "stream",
     "text": [
      "c:\\users\\madad\\venv\\lib\\site-packages\\ipykernel_launcher.py:72: UserWarning: Update your `Conv2D` call to the Keras 2 API: `Conv2D(20, (3, 3), input_shape=(64, 64, 3..., activation=\"relu\")`\n",
      "c:\\users\\madad\\venv\\lib\\site-packages\\ipykernel_launcher.py:78: UserWarning: Update your `Conv2D` call to the Keras 2 API: `Conv2D(20, (3, 3), activation=\"relu\")`\n",
      "c:\\users\\madad\\venv\\lib\\site-packages\\ipykernel_launcher.py:85: UserWarning: Update your `Dense` call to the Keras 2 API: `Dense(activation=\"relu\", units=128)`\n",
      "c:\\users\\madad\\venv\\lib\\site-packages\\ipykernel_launcher.py:86: UserWarning: Update your `Dense` call to the Keras 2 API: `Dense(activation=\"sigmoid\", units=5)`\n"
     ]
    }
   ],
   "source": [
    "# Part 1 - Building the Models\n",
    "\n",
    "\n",
    "# Importing the Keras libraries and packages\n",
    "import keras\n",
    "from keras.models import Sequential\n",
    "from keras.layers.normalization import BatchNormalization\n",
    "from keras.layers.convolutional import Conv2D\n",
    "from keras.layers.convolutional import MaxPooling2D\n",
    "from keras.layers.core import Activation\n",
    "from keras.layers.core import Dropout\n",
    "from keras.layers.core import Dense\n",
    "from keras.layers import Flatten\n",
    "from keras.layers import Input\n",
    "from keras.models import Model\n",
    "from keras.layers import Input, Conv2D, Flatten, BatchNormalization, Reshape, UpSampling2D, MaxPooling2D\n",
    "from keras.models import Model, Sequential\n",
    "from keras.layers.core import Dense, Dropout\n",
    "from keras.layers.advanced_activations import LeakyReLU\n",
    "from keras.datasets import cifar10\n",
    "from keras.optimizers import Adam, RMSprop\n",
    "from keras import initializers\n",
    "import keras\n",
    "\n",
    "from keras.models import Sequential\n",
    "from keras.layers import Convolution2D\n",
    "from keras.layers import MaxPooling2D\n",
    "from keras.layers import Flatten\n",
    "from keras.layers import Dense\n",
    "\n",
    "NUM_LABELS = 5\n",
    "IMG_SIZE = 64\n",
    "\n",
    "\n",
    "# model = Sequential()\n",
    "\n",
    "# # 1st convolutional layer\n",
    "# model.add(Conv2D(32, kernel_size=(3, 3),\n",
    "#                  activation='relu',\n",
    "#                  kernel_initializer='he_normal',\n",
    "#                  input_shape=(IMG_SIZE, IMG_SIZE, 3)))\n",
    "# model.add(MaxPooling2D((2, 2)))\n",
    "# model.add(Dropout(0.25))\n",
    "\n",
    "# # 2nd convolutional layer\n",
    "# model.add(Conv2D(32, \n",
    "#                  kernel_size=(3, 3), \n",
    "#                  activation='relu'))\n",
    "# model.add(MaxPooling2D(pool_size=(2, 2)))\n",
    "# model.add(Dropout(0.25))\n",
    "\n",
    "# model.add(Flatten())\n",
    "\n",
    "# # dense layer \n",
    "# model.add(Dense(64, activation='relu'))\n",
    "# model.add(Dropout(0.3))\n",
    "\n",
    "# # softmax on last layer \n",
    "# model.add(Dense(NUM_LABELS, activation='softmax'))\n",
    "\n",
    "\n",
    "# model.compile(loss=keras.losses.categorical_crossentropy,\n",
    "#               optimizer='adam',\n",
    "#               metrics=['accuracy'])\n",
    "# print(model.summary())\n",
    "\n",
    "\n",
    "# Initialising the CNN\n",
    "model = Sequential()\n",
    "\n",
    "# Step 1 - Convolution\n",
    "model.add(Convolution2D(20, 3, 3, input_shape = (64, 64, 3), activation = 'relu'))\n",
    "\n",
    "# Step 2 - Pooling\n",
    "model.add(MaxPooling2D(pool_size = (2, 2)))\n",
    "\n",
    "# Adding a second convolutional layer\n",
    "model.add(Convolution2D(20, 3, 3, activation = 'relu'))\n",
    "model.add(MaxPooling2D(pool_size = (2, 2)))\n",
    "\n",
    "# Step 3 - Flattening\n",
    "model.add(Flatten())\n",
    "\n",
    "# Step 4 - Full connection\n",
    "model.add(Dense(output_dim = 128, activation = 'relu'))\n",
    "model.add(Dense(output_dim = NUM_LABELS, activation = 'sigmoid'))\n",
    "\n",
    "# Compiling the CNN\n",
    "model.compile(optimizer = 'adam', loss = 'binary_crossentropy', metrics = ['accuracy'])\n",
    "\n",
    "print(model.summary())\n"
   ]
  },
  {
   "cell_type": "code",
   "execution_count": 9,
   "metadata": {},
   "outputs": [],
   "source": [
    "# Run thi only if images are not resized\n",
    "#load_resize_pet_images(df, \"/Users/dacianmujdar/Downloads/Chrome Downloads/petfinder-adoption-prediction/train_images/\", RESIZED_IMAGES_PATH)"
   ]
  },
  {
   "cell_type": "code",
   "execution_count": 11,
   "metadata": {},
   "outputs": [
    {
     "data": {
      "image/png": "[encoded data removed]",
      "text/plain": [
       "<Figure size 432x288 with 1 Axes>"
      ]
     },
     "metadata": {
      "needs_background": "light"
     },
     "output_type": "display_data"
    }
   ],
   "source": [
    "%matplotlib inline\n",
    "\n",
    "import matplotlib\n",
    "import numpy as np\n",
    "import matplotlib.pyplot as plt\n",
    "\n",
    "index = 99\n",
    "\n",
    "plt.imshow(images[index], interpolation='nearest')\n",
    "plt.show()\n"
   ]
  },
  {
   "cell_type": "code",
   "execution_count": 12,
   "metadata": {
    "scrolled": true
   },
   "outputs": [],
   "source": [
    "# from PIL import Image\n",
    "# def write_image_categories(path, images, labels):\n",
    "#     for i in range(len(images)): \n",
    "#         image = Image.fromarray(images[i])\n",
    "#         image.save(path + '{}/{}.jpg'.format(labels[i], i))"
   ]
  },
  {
   "cell_type": "code",
   "execution_count": 13,
   "metadata": {},
   "outputs": [],
   "source": [
    "# import pandas as pd\n",
    "\n",
    "# CSV_PATH = 'C:/Users/madad/Documents/dataset/train.csv'\n",
    "\n",
    "# # Read CSV Values\n",
    "\n",
    "# # initialize the list of column names in the CSV file and then\n",
    "# # load it using Pandas\n",
    "# cols = [\"Type\", \"Name\", \"Age\", \"Breed1\", \"Breed2\", \"Gender\", \"Color1\", \"Color2\", \"Color3\", \"MaturitySize\", \"FurLength\", \"Vaccinated\", \"Dewormed\", \"Sterilized\", \"Health\", \"Quantity\", \"Fee\", \"State\", \"RescuerID\", \"VideoAmt\", \"Description\", \"PetID\", \"PhotoAmt\", \"AdoptionSpeed\"]\n",
    "# df = pd.read_csv(CSV_PATH, header=0, usecols=['PhotoAmt', 'PetID', 'AdoptionSpeed'], names=cols)\n",
    "\n",
    "# df.head()"
   ]
  },
  {
   "cell_type": "code",
   "execution_count": 14,
   "metadata": {},
   "outputs": [],
   "source": [
    "# new_df = pd.DataFrame() \n",
    "\n",
    "# for index, row in df.iterrows():\n",
    "\n",
    "#     quantity = int(row['PhotoAmt'])\n",
    "\n",
    "#     petId = str(row['PetID'])\n",
    "\n",
    "#     for i in range(1, quantity+1):\n",
    "        \n",
    "            \n",
    "#         new_row = row\n",
    "#         new_row['PetID'] = petId + '-' + str(i)\n",
    "\n",
    "#         new_df = new_df.append([new_row],ignore_index=True)\n",
    "        \n",
    "# new_df.head()"
   ]
  },
  {
   "cell_type": "code",
   "execution_count": 15,
   "metadata": {
    "scrolled": true
   },
   "outputs": [],
   "source": [
    "# import numpy as np\n",
    "\n",
    "# ALL_IMAGES_PATH = 'C:/Users/madad/Documents/dataset/images/resized/'\n",
    "\n",
    "# # initialize images array\n",
    "# images = []\n",
    "\n",
    "# # loop over the csv rows\n",
    "# for index, row in new_df.iterrows():\n",
    "\n",
    "#     img_path = ALL_IMAGES_PATH + row['PetID'] + '.jpg'\n",
    "\n",
    "#     image = Image.open(img_path).convert('RGB')\n",
    "\n",
    "#     # add the image to the set of images the network will be trained on\n",
    "#     images.append(np.asarray(image))   \n",
    "    \n",
    "# img_array = np.asarray(images)    "
   ]
  },
  {
   "cell_type": "code",
   "execution_count": 16,
   "metadata": {},
   "outputs": [],
   "source": [
    "# import glob\n",
    "# # get the filepaths \n",
    "\n",
    "# RESIZED_IMAGES_PATH_TRAIN = 'C:/Users/madad/Documents/dataset/images/resized-classif/training/'\n",
    "# RESIZED_IMAGES_PATH_TEST = 'C:/Users/madad/Documents/dataset/images/resized-classif/validation/'\n",
    "\n",
    "# # split 90% training, 10% test\n",
    "# # The percent of data that will be included in the test set\n",
    "# TRAIN_TEST_SPLIT = 0.1\n",
    "\n",
    "# num_data_files = len(img_array)\n",
    "\n",
    "# nr_test_data = int(num_data_files * TRAIN_TEST_SPLIT)\n",
    "\n",
    "# train_images = img_array[nr_test_data:]\n",
    "# test_images = img_array[:nr_test_data]\n",
    "\n",
    "# train_labels = new_df['AdoptionSpeed'][nr_test_data:].values\n",
    "# test_labels = new_df['AdoptionSpeed'][:nr_test_data].values\n",
    "\n",
    "# assert len(train_images) + len(test_images) == num_data_files\n",
    "# assert len(train_labels) + len(test_labels) == num_data_files"
   ]
  },
  {
   "cell_type": "code",
   "execution_count": 17,
   "metadata": {},
   "outputs": [],
   "source": [
    "# import pdb; pdb.set_trace()\n",
    "\n",
    "# write_image_categories(RESIZED_IMAGES_PATH_TRAIN, train_images, train_labels)\n",
    "# write_image_categories(RESIZED_IMAGES_PATH_TEST, test_images, test_labels)"
   ]
  },
  {
   "cell_type": "code",
   "execution_count": 20,
   "metadata": {},
   "outputs": [
    {
     "name": "stdout",
     "output_type": "stream",
     "text": [
      "[INFO] training model...\n",
      "Found 52480 images belonging to 5 classes.\n",
      "Found 5831 images belonging to 5 classes.\n"
     ]
    }
   ],
   "source": [
    "print(\"[INFO] training model...\")\n",
    "BATCH_SIZE = 32 \n",
    "\n",
    "from keras.preprocessing.image import ImageDataGenerator\n",
    "\n",
    "train_datagen = ImageDataGenerator(rescale = 1./255,\n",
    "                                   \n",
    "                                   horizontal_flip = True)\n",
    "\n",
    "test_datagen = ImageDataGenerator(rescale = 1./255)\n",
    "\n",
    "training_set = train_datagen.flow_from_directory(CATEGORY_PATH + 'training/',\n",
    "                                                 target_size = (64, 64),\n",
    "                                                 batch_size = BATCH_SIZE,\n",
    "                                                 class_mode = 'categorical')\n",
    "\n",
    "test_set = test_datagen.flow_from_directory(CATEGORY_PATH + 'validation/',\n",
    "                                            target_size = (64, 64),\n",
    "                                            batch_size = BATCH_SIZE,\n",
    "                                            class_mode = 'categorical')\n"
   ]
  },
  {
   "cell_type": "code",
   "execution_count": 21,
   "metadata": {},
   "outputs": [],
   "source": [
    "def save_model_to_disk(model):\n",
    "    # serialize model to JSON\n",
    "    model_json = model.to_json()\n",
    "    with open(model_name + \".json\", \"w\") as json_file:\n",
    "        json_file.write(model_json)\n",
    "    # serialize weights to HDF5\n",
    "    model.save_weights(model_name + \".h5\")\n",
    "    print(\"Saved model to disk\")\n"
   ]
  },
  {
   "cell_type": "code",
   "execution_count": 22,
   "metadata": {},
   "outputs": [],
   "source": [
    "BATCH_SIZE = 32\n",
    "EPOCHS = 15\n",
    "IMG_SIZE = 64\n",
    "\n",
    "model_name = \"pets_{}pixels_{}epochs\".format(IMG_SIZE, EPOCHS)\n"
   ]
  },
  {
   "cell_type": "code",
   "execution_count": 23,
   "metadata": {},
   "outputs": [
    {
     "name": "stderr",
     "output_type": "stream",
     "text": [
      "c:\\users\\madad\\venv\\lib\\site-packages\\ipykernel_launcher.py:5: UserWarning: The semantics of the Keras 2 argument `steps_per_epoch` is not the same as the Keras 1 argument `samples_per_epoch`. `steps_per_epoch` is the number of batches to draw from the generator at each epoch. Basically steps_per_epoch = samples_per_epoch/batch_size. Similarly `nb_val_samples`->`validation_steps` and `val_samples`->`steps` arguments have changed. Update your method calls accordingly.\n",
      "  \"\"\"\n",
      "c:\\users\\madad\\venv\\lib\\site-packages\\ipykernel_launcher.py:5: UserWarning: Update your `fit_generator` call to the Keras 2 API: `fit_generator(<keras_pre..., validation_data=<keras_pre..., steps_per_epoch=312, epochs=15, validation_steps=1000)`\n",
      "  \"\"\"\n"
     ]
    },
    {
     "name": "stdout",
     "output_type": "stream",
     "text": [
      "Epoch 1/15\n",
      "312/312 [==============================] - 162s 520ms/step - loss: 0.4721 - acc: 0.7989 - val_loss: 0.4658 - val_acc: 0.8000\n",
      "Epoch 2/15\n",
      "312/312 [==============================] - 163s 523ms/step - loss: 0.4661 - acc: 0.8000 - val_loss: 0.4627 - val_acc: 0.8000\n",
      "Epoch 3/15\n",
      "312/312 [==============================] - 163s 521ms/step - loss: 0.4650 - acc: 0.8001 - val_loss: 0.4610 - val_acc: 0.8000\n",
      "Epoch 4/15\n",
      "312/312 [==============================] - 156s 499ms/step - loss: 0.4644 - acc: 0.8000 - val_loss: 0.4641 - val_acc: 0.8000\n",
      "Epoch 5/15\n",
      "312/312 [==============================] - 157s 502ms/step - loss: 0.4647 - acc: 0.8000 - val_loss: 0.4603 - val_acc: 0.8000\n",
      "Epoch 6/15\n",
      "312/312 [==============================] - 158s 506ms/step - loss: 0.4629 - acc: 0.8000 - val_loss: 0.4611 - val_acc: 0.8000\n",
      "Epoch 7/15\n",
      "312/312 [==============================] - 161s 516ms/step - loss: 0.4627 - acc: 0.8000 - val_loss: 0.4601 - val_acc: 0.8000\n",
      "Epoch 8/15\n",
      "312/312 [==============================] - 162s 518ms/step - loss: 0.4644 - acc: 0.8000 - val_loss: 0.4615 - val_acc: 0.8001\n",
      "Epoch 9/15\n",
      "312/312 [==============================] - 155s 496ms/step - loss: 0.4641 - acc: 0.7999 - val_loss: 0.4596 - val_acc: 0.8000\n",
      "Epoch 10/15\n",
      "312/312 [==============================] - 154s 494ms/step - loss: 0.4628 - acc: 0.8002 - val_loss: 0.4625 - val_acc: 0.7998\n",
      "Epoch 11/15\n",
      "312/312 [==============================] - 147s 472ms/step - loss: 0.4630 - acc: 0.8001 - val_loss: 0.4615 - val_acc: 0.8003\n",
      "Epoch 12/15\n",
      "312/312 [==============================] - 146s 467ms/step - loss: 0.4628 - acc: 0.8002 - val_loss: 0.4607 - val_acc: 0.8001\n",
      "Epoch 13/15\n",
      "312/312 [==============================] - 141s 453ms/step - loss: 0.4605 - acc: 0.8001 - val_loss: 0.4603 - val_acc: 0.8001\n",
      "Epoch 14/15\n",
      "312/312 [==============================] - 141s 453ms/step - loss: 0.4615 - acc: 0.8001 - val_loss: 0.4660 - val_acc: 0.8002\n",
      "Epoch 15/15\n",
      "312/312 [==============================] - 149s 479ms/step - loss: 0.4620 - acc: 0.8000 - val_loss: 0.4594 - val_acc: 0.8001\n",
      "dict_keys(['val_loss', 'val_acc', 'loss', 'acc'])\n"
     ]
    },
    {
     "data": {
      "image/png": "[encoded data removed]",
      "text/plain": [
       "<Figure size 432x288 with 1 Axes>"
      ]
     },
     "metadata": {
      "needs_background": "light"
     },
     "output_type": "display_data"
    },
    {
     "data": {
      "image/png": "[encoded data removed]",
      "text/plain": [
       "<Figure size 432x288 with 1 Axes>"
      ]
     },
     "metadata": {
      "needs_background": "light"
     },
     "output_type": "display_data"
    },
    {
     "name": "stdout",
     "output_type": "stream",
     "text": [
      "Saved model to disk\n"
     ]
    }
   ],
   "source": [
    "history = model.fit_generator(training_set,\n",
    "                         samples_per_epoch = 10000,\n",
    "                         nb_epoch = 15,\n",
    "                         validation_data = test_set,\n",
    "                         nb_val_samples = 1000)\n",
    "\n",
    "import matplotlib.pyplot as plt\n",
    "# list all data in history\n",
    "print(history.history.keys())\n",
    "# summarize history for accuracy\n",
    "plt.plot(history.history['acc'])\n",
    "plt.plot(history.history['val_acc'])\n",
    "plt.title('model accuracy')\n",
    "plt.ylabel('accuracy')\n",
    "plt.xlabel('epoch')\n",
    "plt.legend(['test', 'train'], loc='upper left')\n",
    "plt.show()\n",
    "# summarize history for loss\n",
    "plt.plot(history.history['loss'])\n",
    "plt.plot(history.history['val_loss'])\n",
    "plt.title('model loss')\n",
    "plt.ylabel('loss')\n",
    "plt.xlabel('epoch')\n",
    "plt.legend(['test', 'train'], loc='upper left')\n",
    "plt.show()\n",
    "\n",
    "save_model_to_disk(model)"
   ]
  },
  {
   "cell_type": "code",
   "execution_count": null,
   "metadata": {},
   "outputs": [],
   "source": []
  }
 ],
 "metadata": {
  "kernelspec": {
   "display_name": "Python 3",
   "language": "python",
   "name": "python3"
  },
  "language_info": {
   "codemirror_mode": {
    "name": "ipython",
    "version": 3
   },
   "file_extension": ".py",
   "mimetype": "text/x-python",
   "name": "python",
   "nbconvert_exporter": "python",
   "pygments_lexer": "ipython3",
   "version": "3.6.8"
  }
 },
 "nbformat": 4,
 "nbformat_minor": 2
}
