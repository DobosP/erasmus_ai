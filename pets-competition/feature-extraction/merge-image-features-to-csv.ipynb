{
 "cells": [
  {
   "cell_type": "code",
   "execution_count": 1,
   "metadata": {},
   "outputs": [
    {
     "data": {
      "text/html": [
       "<div>\n",
       "<style scoped>\n",
       "    .dataframe tbody tr th:only-of-type {\n",
       "        vertical-align: middle;\n",
       "    }\n",
       "\n",
       "    .dataframe tbody tr th {\n",
       "        vertical-align: top;\n",
       "    }\n",
       "\n",
       "    .dataframe thead th {\n",
       "        text-align: right;\n",
       "    }\n",
       "</style>\n",
       "<table border=\"1\" class=\"dataframe\">\n",
       "  <thead>\n",
       "    <tr style=\"text-align: right;\">\n",
       "      <th></th>\n",
       "      <th>PetID</th>\n",
       "      <th>dullness</th>\n",
       "      <th>whiteness</th>\n",
       "      <th>average_pixel_width</th>\n",
       "      <th>image_size</th>\n",
       "      <th>blurrness</th>\n",
       "    </tr>\n",
       "  </thead>\n",
       "  <tbody>\n",
       "    <tr>\n",
       "      <th>0</th>\n",
       "      <td>0008c5398-1.jpg</td>\n",
       "      <td>0.000</td>\n",
       "      <td>0.000</td>\n",
       "      <td>7.153320</td>\n",
       "      <td>23966</td>\n",
       "      <td>108542.25200</td>\n",
       "    </tr>\n",
       "    <tr>\n",
       "      <th>1</th>\n",
       "      <td>0008c5398-2.jpg</td>\n",
       "      <td>87.820</td>\n",
       "      <td>0.000</td>\n",
       "      <td>9.179688</td>\n",
       "      <td>19326</td>\n",
       "      <td>71455.78827</td>\n",
       "    </tr>\n",
       "    <tr>\n",
       "      <th>2</th>\n",
       "      <td>0008c5398-3.jpg</td>\n",
       "      <td>4.885</td>\n",
       "      <td>0.000</td>\n",
       "      <td>7.446289</td>\n",
       "      <td>19778</td>\n",
       "      <td>65935.54666</td>\n",
       "    </tr>\n",
       "    <tr>\n",
       "      <th>3</th>\n",
       "      <td>0008c5398-4.jpg</td>\n",
       "      <td>40.885</td>\n",
       "      <td>1.725</td>\n",
       "      <td>10.205078</td>\n",
       "      <td>23557</td>\n",
       "      <td>64761.50388</td>\n",
       "    </tr>\n",
       "    <tr>\n",
       "      <th>4</th>\n",
       "      <td>0008c5398-5.jpg</td>\n",
       "      <td>0.000</td>\n",
       "      <td>0.000</td>\n",
       "      <td>8.129883</td>\n",
       "      <td>20335</td>\n",
       "      <td>63494.16191</td>\n",
       "    </tr>\n",
       "  </tbody>\n",
       "</table>\n",
       "</div>"
      ],
      "text/plain": [
       "             PetID  dullness  whiteness  average_pixel_width  image_size  \\\n",
       "0  0008c5398-1.jpg     0.000      0.000             7.153320       23966   \n",
       "1  0008c5398-2.jpg    87.820      0.000             9.179688       19326   \n",
       "2  0008c5398-3.jpg     4.885      0.000             7.446289       19778   \n",
       "3  0008c5398-4.jpg    40.885      1.725            10.205078       23557   \n",
       "4  0008c5398-5.jpg     0.000      0.000             8.129883       20335   \n",
       "\n",
       "      blurrness  \n",
       "0  108542.25200  \n",
       "1   71455.78827  \n",
       "2   65935.54666  \n",
       "3   64761.50388  \n",
       "4   63494.16191  "
      ]
     },
     "execution_count": 1,
     "metadata": {},
     "output_type": "execute_result"
    }
   ],
   "source": [
    "import pandas as pd\n",
    "\n",
    "CSV_PATH = 'C:/Users/madad/Documents/features-train.csv'\n",
    "new_features_df = pd.read_csv(CSV_PATH, header=0, usecols=['blurrness','image_size','whiteness', 'average_pixel_width','dullness', 'PetID'])\n",
    "\n",
    "new_features_df.head(5)"
   ]
  },
  {
   "cell_type": "code",
   "execution_count": 2,
   "metadata": {},
   "outputs": [
    {
     "data": {
      "text/html": [
       "<div>\n",
       "<style scoped>\n",
       "    .dataframe tbody tr th:only-of-type {\n",
       "        vertical-align: middle;\n",
       "    }\n",
       "\n",
       "    .dataframe tbody tr th {\n",
       "        vertical-align: top;\n",
       "    }\n",
       "\n",
       "    .dataframe thead th {\n",
       "        text-align: right;\n",
       "    }\n",
       "</style>\n",
       "<table border=\"1\" class=\"dataframe\">\n",
       "  <thead>\n",
       "    <tr style=\"text-align: right;\">\n",
       "      <th></th>\n",
       "      <th>Type</th>\n",
       "      <th>Name</th>\n",
       "      <th>Age</th>\n",
       "      <th>Breed1</th>\n",
       "      <th>Breed2</th>\n",
       "      <th>Gender</th>\n",
       "      <th>Color1</th>\n",
       "      <th>Color2</th>\n",
       "      <th>Color3</th>\n",
       "      <th>MaturitySize</th>\n",
       "      <th>...</th>\n",
       "      <th>NMF_img_tags_1</th>\n",
       "      <th>NMF_img_tags_2</th>\n",
       "      <th>NMF_img_tags_3</th>\n",
       "      <th>NMF_img_tags_4</th>\n",
       "      <th>RescuerID_COUNT</th>\n",
       "      <th>main_breed_Type</th>\n",
       "      <th>main_breed_BreedName</th>\n",
       "      <th>second_breed_Type</th>\n",
       "      <th>second_breed_BreedName</th>\n",
       "      <th>PureBreed</th>\n",
       "    </tr>\n",
       "  </thead>\n",
       "  <tbody>\n",
       "    <tr>\n",
       "      <th>0</th>\n",
       "      <td>2</td>\n",
       "      <td>Ollie</td>\n",
       "      <td>6</td>\n",
       "      <td>265</td>\n",
       "      <td>0</td>\n",
       "      <td>1</td>\n",
       "      <td>4</td>\n",
       "      <td>7</td>\n",
       "      <td>0</td>\n",
       "      <td>2</td>\n",
       "      <td>...</td>\n",
       "      <td>0.118481</td>\n",
       "      <td>0.0</td>\n",
       "      <td>0.000000</td>\n",
       "      <td>0.000000</td>\n",
       "      <td>2</td>\n",
       "      <td>2.0</td>\n",
       "      <td>0</td>\n",
       "      <td>NaN</td>\n",
       "      <td>-1</td>\n",
       "      <td>0.0</td>\n",
       "    </tr>\n",
       "    <tr>\n",
       "      <th>1</th>\n",
       "      <td>1</td>\n",
       "      <td>Cutie Pie</td>\n",
       "      <td>2</td>\n",
       "      <td>307</td>\n",
       "      <td>0</td>\n",
       "      <td>2</td>\n",
       "      <td>1</td>\n",
       "      <td>2</td>\n",
       "      <td>7</td>\n",
       "      <td>2</td>\n",
       "      <td>...</td>\n",
       "      <td>0.000000</td>\n",
       "      <td>0.0</td>\n",
       "      <td>0.038738</td>\n",
       "      <td>0.000000</td>\n",
       "      <td>93</td>\n",
       "      <td>1.0</td>\n",
       "      <td>1</td>\n",
       "      <td>NaN</td>\n",
       "      <td>-1</td>\n",
       "      <td>0.0</td>\n",
       "    </tr>\n",
       "    <tr>\n",
       "      <th>2</th>\n",
       "      <td>1</td>\n",
       "      <td>Minnie</td>\n",
       "      <td>2</td>\n",
       "      <td>307</td>\n",
       "      <td>0</td>\n",
       "      <td>2</td>\n",
       "      <td>1</td>\n",
       "      <td>0</td>\n",
       "      <td>0</td>\n",
       "      <td>2</td>\n",
       "      <td>...</td>\n",
       "      <td>0.000800</td>\n",
       "      <td>0.0</td>\n",
       "      <td>0.011280</td>\n",
       "      <td>0.005097</td>\n",
       "      <td>8</td>\n",
       "      <td>1.0</td>\n",
       "      <td>1</td>\n",
       "      <td>NaN</td>\n",
       "      <td>-1</td>\n",
       "      <td>0.0</td>\n",
       "    </tr>\n",
       "    <tr>\n",
       "      <th>3</th>\n",
       "      <td>2</td>\n",
       "      <td>Spot</td>\n",
       "      <td>2</td>\n",
       "      <td>241</td>\n",
       "      <td>241</td>\n",
       "      <td>1</td>\n",
       "      <td>1</td>\n",
       "      <td>4</td>\n",
       "      <td>6</td>\n",
       "      <td>2</td>\n",
       "      <td>...</td>\n",
       "      <td>0.116961</td>\n",
       "      <td>0.0</td>\n",
       "      <td>0.000000</td>\n",
       "      <td>0.000000</td>\n",
       "      <td>2</td>\n",
       "      <td>2.0</td>\n",
       "      <td>2</td>\n",
       "      <td>2.0</td>\n",
       "      <td>0</td>\n",
       "      <td>1.0</td>\n",
       "    </tr>\n",
       "    <tr>\n",
       "      <th>4</th>\n",
       "      <td>1</td>\n",
       "      <td>Pup</td>\n",
       "      <td>1</td>\n",
       "      <td>307</td>\n",
       "      <td>0</td>\n",
       "      <td>1</td>\n",
       "      <td>2</td>\n",
       "      <td>5</td>\n",
       "      <td>0</td>\n",
       "      <td>2</td>\n",
       "      <td>...</td>\n",
       "      <td>0.000000</td>\n",
       "      <td>0.0</td>\n",
       "      <td>0.083036</td>\n",
       "      <td>0.000000</td>\n",
       "      <td>2</td>\n",
       "      <td>1.0</td>\n",
       "      <td>1</td>\n",
       "      <td>NaN</td>\n",
       "      <td>-1</td>\n",
       "      <td>0.0</td>\n",
       "    </tr>\n",
       "  </tbody>\n",
       "</table>\n",
       "<p>5 rows × 78 columns</p>\n",
       "</div>"
      ],
      "text/plain": [
       "   Type       Name  Age  Breed1  Breed2  Gender  Color1  Color2  Color3  \\\n",
       "0     2      Ollie    6     265       0       1       4       7       0   \n",
       "1     1  Cutie Pie    2     307       0       2       1       2       7   \n",
       "2     1     Minnie    2     307       0       2       1       0       0   \n",
       "3     2       Spot    2     241     241       1       1       4       6   \n",
       "4     1        Pup    1     307       0       1       2       5       0   \n",
       "\n",
       "   MaturitySize  ...  NMF_img_tags_1  NMF_img_tags_2  NMF_img_tags_3  \\\n",
       "0             2  ...        0.118481             0.0        0.000000   \n",
       "1             2  ...        0.000000             0.0        0.038738   \n",
       "2             2  ...        0.000800             0.0        0.011280   \n",
       "3             2  ...        0.116961             0.0        0.000000   \n",
       "4             2  ...        0.000000             0.0        0.083036   \n",
       "\n",
       "   NMF_img_tags_4  RescuerID_COUNT  main_breed_Type  main_breed_BreedName  \\\n",
       "0        0.000000                2              2.0                     0   \n",
       "1        0.000000               93              1.0                     1   \n",
       "2        0.005097                8              1.0                     1   \n",
       "3        0.000000                2              2.0                     2   \n",
       "4        0.000000                2              1.0                     1   \n",
       "\n",
       "   second_breed_Type  second_breed_BreedName PureBreed  \n",
       "0                NaN                      -1       0.0  \n",
       "1                NaN                      -1       0.0  \n",
       "2                NaN                      -1       0.0  \n",
       "3                2.0                       0       1.0  \n",
       "4                NaN                      -1       0.0  \n",
       "\n",
       "[5 rows x 78 columns]"
      ]
     },
     "execution_count": 2,
     "metadata": {},
     "output_type": "execute_result"
    }
   ],
   "source": [
    "CSV_PATH = 'C:/Users/madad/Documents/all_train_data_V6_pure_breed.csv'\n",
    "df = pd.read_csv(CSV_PATH, header=0)\n",
    "\n",
    "df.head(5)"
   ]
  },
  {
   "cell_type": "code",
   "execution_count": 3,
   "metadata": {},
   "outputs": [
    {
     "data": {
      "text/plain": [
       "0    0008c5398-1.jpg\n",
       "1    0008c5398-2.jpg\n",
       "2    0008c5398-3.jpg\n",
       "3    0008c5398-4.jpg\n",
       "4    0008c5398-5.jpg\n",
       "5    0008c5398-6.jpg\n",
       "6    000a290e4-1.jpg\n",
       "7    000a290e4-2.jpg\n",
       "8    000fb9572-1.jpg\n",
       "9    000fb9572-2.jpg\n",
       "Name: PetID, dtype: object"
      ]
     },
     "execution_count": 3,
     "metadata": {},
     "output_type": "execute_result"
    }
   ],
   "source": [
    "new_features_df = new_features_df.sort_values(by=['PetID'])\n",
    "new_features_df['PetID'].head(10)"
   ]
  },
  {
   "cell_type": "code",
   "execution_count": 4,
   "metadata": {},
   "outputs": [
    {
     "data": {
      "text/plain": [
       "0    0008c5398\n",
       "1    000a290e4\n",
       "2    000fb9572\n",
       "3    0011d7c25\n",
       "4    00156db4a\n",
       "Name: PetID, dtype: object"
      ]
     },
     "execution_count": 4,
     "metadata": {},
     "output_type": "execute_result"
    }
   ],
   "source": [
    "df = df.sort_values(by=['PetID'])\n",
    "df['PetID'].head(5)"
   ]
  },
  {
   "cell_type": "code",
   "execution_count": 5,
   "metadata": {},
   "outputs": [],
   "source": [
    "def make_row(pet_id, sums, size):\n",
    "    return extra_df.append({'PetID': pet_id, 'dullness': sums[0]/size, 'blurrness': sums[1]/size,\n",
    "                           'image_size': sums[2]/size, 'average_pixel_width': sums[3]/size,\n",
    "                           'whiteness': sums[4]/size}, ignore_index=True)"
   ]
  },
  {
   "cell_type": "code",
   "execution_count": 6,
   "metadata": {},
   "outputs": [],
   "source": [
    "def init_sums(curr_pet):\n",
    "    dull_sum = curr_pet['dullness']\n",
    "    blurr_sum = curr_pet['blurrness']\n",
    "    avg_pixel_width_sum = curr_pet['average_pixel_width']\n",
    "    whiteness_sum = curr_pet['whiteness']\n",
    "    size_sum = curr_pet['image_size']\n",
    "    return dull_sum, blurr_sum, size_sum, avg_pixel_width_sum, whiteness_sum"
   ]
  },
  {
   "cell_type": "code",
   "execution_count": 7,
   "metadata": {},
   "outputs": [],
   "source": [
    "def feature_sums(curr_pet, sums):\n",
    "    dull_sum = sums[0] + curr_pet['dullness']\n",
    "    blurr_sum = sums[1] + curr_pet['blurrness']\n",
    "    avg_pixel_width_sum = sums[2] + curr_pet['image_size']\n",
    "    whiteness_sum = sums[3] + curr_pet['average_pixel_width']\n",
    "    size_sum = sums[4] + curr_pet['whiteness']\n",
    "    return dull_sum, blurr_sum, size_sum, avg_pixel_width_sum, whiteness_sum"
   ]
  },
  {
   "cell_type": "code",
   "execution_count": 8,
   "metadata": {},
   "outputs": [],
   "source": [
    "# merge new features data frame for pet\n",
    "extra_df = pd.DataFrame(columns = ['blurrness','image_size','whiteness', 'average_pixel_width','dullness']) \n",
    "\n",
    "prev_pet = new_features_df.iloc[0]\n",
    "sums = init_sums(prev_pet)\n",
    "\n",
    "size = 1\n",
    "\n",
    "for i in range (1, len(new_features_df)):\n",
    "    curr_pet = new_features_df.iloc[i]\n",
    "    curr_pet_id = curr_pet['PetID'].split('-')[0]\n",
    "    prev_pet_id = prev_pet['PetID'].split('-')[0]\n",
    "    \n",
    "    if curr_pet_id == prev_pet_id:\n",
    "        sums = feature_sums(curr_pet, sums)\n",
    "        size = size + 1\n",
    "        \n",
    "        if i == len(new_features_df['PetID']) - 1:\n",
    "            extra_df = make_row(prev_pet_id, sums, size)\n",
    "    else:\n",
    "        extra_df = make_row(prev_pet_id, sums, size)\n",
    "        # reinitialize sums for next pet\n",
    "        sums = init_sums(curr_pet)\n",
    "        size = 1\n",
    "\n",
    "    prev_pet = curr_pet"
   ]
  },
  {
   "cell_type": "code",
   "execution_count": 9,
   "metadata": {},
   "outputs": [
    {
     "name": "stdout",
     "output_type": "stream",
     "text": [
      "14651\n",
      "14993\n",
      "342 pets do not have images.\n"
     ]
    }
   ],
   "source": [
    "print(len(extra_df))\n",
    "print(len(df))\n",
    "print(len(df)-len(extra_df),'pets do not have images.')"
   ]
  },
  {
   "cell_type": "code",
   "execution_count": 10,
   "metadata": {},
   "outputs": [
    {
     "data": {
      "text/plain": [
       "0    0008c5398\n",
       "1    000a290e4\n",
       "2    000fb9572\n",
       "3    0011d7c25\n",
       "4    00156db4a\n",
       "Name: PetID, dtype: object"
      ]
     },
     "execution_count": 10,
     "metadata": {},
     "output_type": "execute_result"
    }
   ],
   "source": [
    "extra_df['PetID'].head(5)"
   ]
  },
  {
   "cell_type": "code",
   "execution_count": 11,
   "metadata": {},
   "outputs": [],
   "source": [
    "# there are pets that do not have attached images\n",
    "# more photos per pet\n",
    "assert(len(df) >= len(extra_df))"
   ]
  },
  {
   "cell_type": "code",
   "execution_count": 13,
   "metadata": {},
   "outputs": [],
   "source": [
    "def make_row_default_on_pos(pet_id, pos, df):\n",
    "    row = pd.DataFrame({'PetID': pet_id, 'dullness': 101, 'blurrness': 100000,\n",
    "                           'image_size': 0, 'average_pixel_width': -1,\n",
    "                           'whiteness': 101}, index=[pos])\n",
    "    df = df.append(row, ignore_index=False)\n",
    "    df = df.sort_index().reset_index(drop=True)\n",
    "    return df"
   ]
  },
  {
   "cell_type": "code",
   "execution_count": 14,
   "metadata": {
    "scrolled": true
   },
   "outputs": [
    {
     "name": "stderr",
     "output_type": "stream",
     "text": [
      "c:\\users\\madad\\venv\\lib\\site-packages\\pandas\\core\\frame.py:6692: FutureWarning: Sorting because non-concatenation axis is not aligned. A future version\n",
      "of pandas will change to not sort by default.\n",
      "\n",
      "To accept the future behavior, pass 'sort=False'.\n",
      "\n",
      "To retain the current behavior and silence the warning, pass 'sort=True'.\n",
      "\n",
      "  sort=sort)\n"
     ]
    },
    {
     "name": "stdout",
     "output_type": "stream",
     "text": [
      "14992\n",
      "14993\n",
      "Added default values for 342 pets\n"
     ]
    }
   ],
   "source": [
    "# parse df (all pet ids)\n",
    "# if there is no image for that id, then add defaults for the new features in extra_df\n",
    "\n",
    "count = 0\n",
    "\n",
    "for i in range(0, len(df)):\n",
    "    try:\n",
    "        pet_id_df = df.iloc[i]['PetID']\n",
    "        pet_id_extra_df = extra_df.iloc[i]['PetID']\n",
    "    except:\n",
    "        # the last element does not have photos\n",
    "        print(i)\n",
    "        print(len(extra_df))\n",
    "        print(len(df))\n",
    "    \n",
    "    if pet_id_df != pet_id_extra_df:\n",
    "        count = count + 1\n",
    "        # if the df does not correspond to extra_df, then insert default row on position i \n",
    "        extra_df = make_row_default_on_pos(pet_id_df, i-1, extra_df)\n",
    "\n",
    "print('Added default values for', count, 'pets')"
   ]
  },
  {
   "cell_type": "code",
   "execution_count": 15,
   "metadata": {},
   "outputs": [],
   "source": [
    "extra_df.head()\n",
    "\n",
    "assert(len(df) == len(extra_df))"
   ]
  },
  {
   "cell_type": "code",
   "execution_count": 16,
   "metadata": {},
   "outputs": [],
   "source": [
    "extra_df = extra_df.drop('PetID', 1)"
   ]
  },
  {
   "cell_type": "code",
   "execution_count": 17,
   "metadata": {},
   "outputs": [],
   "source": [
    "df = df.join(extra_df)"
   ]
  },
  {
   "cell_type": "code",
   "execution_count": 18,
   "metadata": {},
   "outputs": [],
   "source": [
    "df.to_csv('all_train_data_V7.csv', encoding='utf-8', index=False)"
   ]
  },
  {
   "cell_type": "code",
   "execution_count": null,
   "metadata": {},
   "outputs": [],
   "source": []
  }
 ],
 "metadata": {
  "kernelspec": {
   "display_name": "Python 3",
   "language": "python",
   "name": "python3"
  },
  "language_info": {
   "codemirror_mode": {
    "name": "ipython",
    "version": 3
   },
   "file_extension": ".py",
   "mimetype": "text/x-python",
   "name": "python",
   "nbconvert_exporter": "python",
   "pygments_lexer": "ipython3",
   "version": "3.6.8"
  }
 },
 "nbformat": 4,
 "nbformat_minor": 2
}
