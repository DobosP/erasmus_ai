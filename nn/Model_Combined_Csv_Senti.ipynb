{
 "cells": [
  {
   "cell_type": "code",
   "execution_count": 1,
   "metadata": {},
   "outputs": [
    {
     "name": "stderr",
     "output_type": "stream",
     "text": [
      "/Users/angelomulone/anaconda/lib/python3.6/site-packages/h5py/__init__.py:34: FutureWarning: Conversion of the second argument of issubdtype from `float` to `np.floating` is deprecated. In future, it will be treated as `np.float64 == np.dtype(float).type`.\n",
      "  from ._conv import register_converters as _register_converters\n",
      "Using TensorFlow backend.\n"
     ]
    }
   ],
   "source": [
    "import numpy as np\n",
    "import pandas as pd\n",
    "from keras.models import Sequential\n",
    "\n",
    "data_tr = pd.read_csv(\"train.csv\") \n",
    "data_sr = pd.read_csv(\"sentiment_data.csv\") "
   ]
  },
  {
   "cell_type": "code",
   "execution_count": 2,
   "metadata": {
    "collapsed": true
   },
   "outputs": [],
   "source": [
    "Data_Tr = data_tr.drop(['Name', 'RescuerID','Description','PetID','AdoptionSpeed'], axis=1)\n",
    "Data_sr = data_sr.drop(['PetID','dom_color','has_eng_description'],axis = 1)"
   ]
  },
  {
   "cell_type": "code",
   "execution_count": 3,
   "metadata": {
    "collapsed": true
   },
   "outputs": [],
   "source": [
    "Data_sr = Data_sr.drop(Data_sr.columns[0], axis=1)\n"
   ]
  },
  {
   "cell_type": "code",
   "execution_count": 4,
   "metadata": {
    "collapsed": true
   },
   "outputs": [],
   "source": [
    "Data_Final = pd.concat([Data_Tr, Data_sr], axis=1)\n"
   ]
  },
  {
   "cell_type": "code",
   "execution_count": 5,
   "metadata": {},
   "outputs": [
    {
     "data": {
      "text/html": [
       "<div>\n",
       "<style>\n",
       "    .dataframe thead tr:only-child th {\n",
       "        text-align: right;\n",
       "    }\n",
       "\n",
       "    .dataframe thead th {\n",
       "        text-align: left;\n",
       "    }\n",
       "\n",
       "    .dataframe tbody tr th {\n",
       "        vertical-align: top;\n",
       "    }\n",
       "</style>\n",
       "<table border=\"1\" class=\"dataframe\">\n",
       "  <thead>\n",
       "    <tr style=\"text-align: right;\">\n",
       "      <th></th>\n",
       "      <th>Type</th>\n",
       "      <th>Age</th>\n",
       "      <th>Breed1</th>\n",
       "      <th>Breed2</th>\n",
       "      <th>Gender</th>\n",
       "      <th>Color1</th>\n",
       "      <th>Color2</th>\n",
       "      <th>Color3</th>\n",
       "      <th>MaturitySize</th>\n",
       "      <th>FurLength</th>\n",
       "      <th>...</th>\n",
       "      <th>Fee</th>\n",
       "      <th>State</th>\n",
       "      <th>VideoAmt</th>\n",
       "      <th>PhotoAmt</th>\n",
       "      <th>doc_mag_corr</th>\n",
       "      <th>doc_score</th>\n",
       "      <th>sent_count</th>\n",
       "      <th>sen1_magnitude</th>\n",
       "      <th>sen1_score</th>\n",
       "      <th>AdoptionSpeed</th>\n",
       "    </tr>\n",
       "  </thead>\n",
       "  <tbody>\n",
       "    <tr>\n",
       "      <th>0</th>\n",
       "      <td>2</td>\n",
       "      <td>3</td>\n",
       "      <td>299</td>\n",
       "      <td>0</td>\n",
       "      <td>1</td>\n",
       "      <td>1</td>\n",
       "      <td>7</td>\n",
       "      <td>0</td>\n",
       "      <td>1</td>\n",
       "      <td>1</td>\n",
       "      <td>...</td>\n",
       "      <td>100</td>\n",
       "      <td>41326</td>\n",
       "      <td>0</td>\n",
       "      <td>1.0</td>\n",
       "      <td>0.400000</td>\n",
       "      <td>0.3</td>\n",
       "      <td>6.0</td>\n",
       "      <td>0.8</td>\n",
       "      <td>0.8</td>\n",
       "      <td>2</td>\n",
       "    </tr>\n",
       "    <tr>\n",
       "      <th>1</th>\n",
       "      <td>2</td>\n",
       "      <td>1</td>\n",
       "      <td>265</td>\n",
       "      <td>0</td>\n",
       "      <td>1</td>\n",
       "      <td>1</td>\n",
       "      <td>2</td>\n",
       "      <td>0</td>\n",
       "      <td>2</td>\n",
       "      <td>2</td>\n",
       "      <td>...</td>\n",
       "      <td>0</td>\n",
       "      <td>41401</td>\n",
       "      <td>0</td>\n",
       "      <td>2.0</td>\n",
       "      <td>0.350000</td>\n",
       "      <td>-0.2</td>\n",
       "      <td>2.0</td>\n",
       "      <td>0.1</td>\n",
       "      <td>0.1</td>\n",
       "      <td>0</td>\n",
       "    </tr>\n",
       "    <tr>\n",
       "      <th>2</th>\n",
       "      <td>1</td>\n",
       "      <td>1</td>\n",
       "      <td>307</td>\n",
       "      <td>0</td>\n",
       "      <td>1</td>\n",
       "      <td>2</td>\n",
       "      <td>7</td>\n",
       "      <td>0</td>\n",
       "      <td>2</td>\n",
       "      <td>2</td>\n",
       "      <td>...</td>\n",
       "      <td>0</td>\n",
       "      <td>41326</td>\n",
       "      <td>0</td>\n",
       "      <td>7.0</td>\n",
       "      <td>0.528571</td>\n",
       "      <td>0.2</td>\n",
       "      <td>7.0</td>\n",
       "      <td>0.9</td>\n",
       "      <td>-0.9</td>\n",
       "      <td>3</td>\n",
       "    </tr>\n",
       "    <tr>\n",
       "      <th>3</th>\n",
       "      <td>1</td>\n",
       "      <td>4</td>\n",
       "      <td>307</td>\n",
       "      <td>0</td>\n",
       "      <td>2</td>\n",
       "      <td>1</td>\n",
       "      <td>2</td>\n",
       "      <td>0</td>\n",
       "      <td>2</td>\n",
       "      <td>1</td>\n",
       "      <td>...</td>\n",
       "      <td>150</td>\n",
       "      <td>41401</td>\n",
       "      <td>0</td>\n",
       "      <td>8.0</td>\n",
       "      <td>0.900000</td>\n",
       "      <td>0.9</td>\n",
       "      <td>1.0</td>\n",
       "      <td>0.9</td>\n",
       "      <td>0.9</td>\n",
       "      <td>2</td>\n",
       "    </tr>\n",
       "    <tr>\n",
       "      <th>4</th>\n",
       "      <td>1</td>\n",
       "      <td>1</td>\n",
       "      <td>307</td>\n",
       "      <td>0</td>\n",
       "      <td>1</td>\n",
       "      <td>1</td>\n",
       "      <td>0</td>\n",
       "      <td>0</td>\n",
       "      <td>2</td>\n",
       "      <td>1</td>\n",
       "      <td>...</td>\n",
       "      <td>0</td>\n",
       "      <td>41326</td>\n",
       "      <td>0</td>\n",
       "      <td>3.0</td>\n",
       "      <td>0.616667</td>\n",
       "      <td>0.6</td>\n",
       "      <td>6.0</td>\n",
       "      <td>0.7</td>\n",
       "      <td>0.7</td>\n",
       "      <td>2</td>\n",
       "    </tr>\n",
       "  </tbody>\n",
       "</table>\n",
       "<p>5 rows × 25 columns</p>\n",
       "</div>"
      ],
      "text/plain": [
       "   Type  Age  Breed1  Breed2  Gender  Color1  Color2  Color3  MaturitySize  \\\n",
       "0     2    3     299       0       1       1       7       0             1   \n",
       "1     2    1     265       0       1       1       2       0             2   \n",
       "2     1    1     307       0       1       2       7       0             2   \n",
       "3     1    4     307       0       2       1       2       0             2   \n",
       "4     1    1     307       0       1       1       0       0             2   \n",
       "\n",
       "   FurLength      ...        Fee  State  VideoAmt  PhotoAmt  doc_mag_corr  \\\n",
       "0          1      ...        100  41326         0       1.0      0.400000   \n",
       "1          2      ...          0  41401         0       2.0      0.350000   \n",
       "2          2      ...          0  41326         0       7.0      0.528571   \n",
       "3          1      ...        150  41401         0       8.0      0.900000   \n",
       "4          1      ...          0  41326         0       3.0      0.616667   \n",
       "\n",
       "   doc_score  sent_count  sen1_magnitude  sen1_score  AdoptionSpeed  \n",
       "0        0.3         6.0             0.8         0.8              2  \n",
       "1       -0.2         2.0             0.1         0.1              0  \n",
       "2        0.2         7.0             0.9        -0.9              3  \n",
       "3        0.9         1.0             0.9         0.9              2  \n",
       "4        0.6         6.0             0.7         0.7              2  \n",
       "\n",
       "[5 rows x 25 columns]"
      ]
     },
     "execution_count": 5,
     "metadata": {},
     "output_type": "execute_result"
    }
   ],
   "source": [
    "Data_Final.head()"
   ]
  },
  {
   "cell_type": "code",
   "execution_count": 6,
   "metadata": {
    "collapsed": true
   },
   "outputs": [],
   "source": [
    "#Data_Final = Data_Final[np.isfinite(Data_sr['doc_mag_corr'])]\n",
    "Data_Final = Data_Final.fillna(0)"
   ]
  },
  {
   "cell_type": "code",
   "execution_count": 7,
   "metadata": {},
   "outputs": [
    {
     "name": "stdout",
     "output_type": "stream",
     "text": [
      "<class 'pandas.core.frame.DataFrame'>\n",
      "RangeIndex: 14993 entries, 0 to 14992\n",
      "Data columns (total 25 columns):\n",
      "Type              14993 non-null int64\n",
      "Age               14993 non-null int64\n",
      "Breed1            14993 non-null int64\n",
      "Breed2            14993 non-null int64\n",
      "Gender            14993 non-null int64\n",
      "Color1            14993 non-null int64\n",
      "Color2            14993 non-null int64\n",
      "Color3            14993 non-null int64\n",
      "MaturitySize      14993 non-null int64\n",
      "FurLength         14993 non-null int64\n",
      "Vaccinated        14993 non-null int64\n",
      "Dewormed          14993 non-null int64\n",
      "Sterilized        14993 non-null int64\n",
      "Health            14993 non-null int64\n",
      "Quantity          14993 non-null int64\n",
      "Fee               14993 non-null int64\n",
      "State             14993 non-null int64\n",
      "VideoAmt          14993 non-null int64\n",
      "PhotoAmt          14993 non-null float64\n",
      "doc_mag_corr      14993 non-null float64\n",
      "doc_score         14993 non-null float64\n",
      "sent_count        14993 non-null float64\n",
      "sen1_magnitude    14993 non-null float64\n",
      "sen1_score        14993 non-null float64\n",
      "AdoptionSpeed     14993 non-null int64\n",
      "dtypes: float64(6), int64(19)\n",
      "memory usage: 2.9 MB\n"
     ]
    }
   ],
   "source": [
    "Data_Final.info()"
   ]
  },
  {
   "cell_type": "code",
   "execution_count": 8,
   "metadata": {
    "collapsed": true
   },
   "outputs": [],
   "source": [
    "R_Data_F = np.asmatrix(Data_Final)\n"
   ]
  },
  {
   "cell_type": "code",
   "execution_count": 9,
   "metadata": {},
   "outputs": [
    {
     "ename": "TypeError",
     "evalue": "'tuple' object is not callable",
     "output_type": "error",
     "traceback": [
      "\u001b[0;31m---------------------------------------------------------------------------\u001b[0m",
      "\u001b[0;31mTypeError\u001b[0m                                 Traceback (most recent call last)",
      "\u001b[0;32m<ipython-input-9-754b9521d61b>\u001b[0m in \u001b[0;36m<module>\u001b[0;34m()\u001b[0m\n\u001b[0;32m----> 1\u001b[0;31m \u001b[0mR_Data_F\u001b[0m\u001b[0;34m.\u001b[0m\u001b[0mshape\u001b[0m\u001b[0;34m(\u001b[0m\u001b[0;34m)\u001b[0m\u001b[0;34m\u001b[0m\u001b[0m\n\u001b[0m",
      "\u001b[0;31mTypeError\u001b[0m: 'tuple' object is not callable"
     ]
    }
   ],
   "source": [
    "R_Data_F.shape()"
   ]
  },
  {
   "cell_type": "code",
   "execution_count": 10,
   "metadata": {
    "collapsed": true
   },
   "outputs": [],
   "source": [
    "X_Data_Tr = R_Data_F[:,0:24]\n",
    "Y_Data_Tr = R_Data_F[:,24]"
   ]
  },
  {
   "cell_type": "code",
   "execution_count": 11,
   "metadata": {
    "collapsed": true
   },
   "outputs": [],
   "source": [
    "#Fix random seed for reproducibility\n",
    "seed = 7\n",
    "np.random.seed(seed)"
   ]
  },
  {
   "cell_type": "code",
   "execution_count": 12,
   "metadata": {},
   "outputs": [
    {
     "name": "stdout",
     "output_type": "stream",
     "text": [
      "(14993, 24)\n",
      "(14993, 1)\n"
     ]
    }
   ],
   "source": [
    "print(X_Data_Tr.shape)\n",
    "print(Y_Data_Tr.shape)"
   ]
  },
  {
   "cell_type": "code",
   "execution_count": 13,
   "metadata": {
    "collapsed": true
   },
   "outputs": [],
   "source": [
    "from sklearn.preprocessing import LabelEncoder\n",
    "from keras.utils import np_utils\n",
    "\n",
    "#Encode class values as integers\n",
    "Y_Data_Tr = np.ravel(Y_Data_Tr)\n",
    "encoder_Tr = LabelEncoder()\n",
    "encoder_Tr.fit(Y_Data_Tr)\n",
    "encoded_Y_Tr = encoder_Tr.transform(Y_Data_Tr)\n",
    "\n",
    "# convert integers to dummy variables (i.e. one hot encoded)\n",
    "dummy_y_Tr = np_utils.to_categorical(encoded_Y_Tr)"
   ]
  },
  {
   "cell_type": "code",
   "execution_count": 14,
   "metadata": {
    "collapsed": true
   },
   "outputs": [],
   "source": [
    "####### Feature Scaling\n",
    "from sklearn.preprocessing import StandardScaler\n",
    "\n",
    "sc = StandardScaler()\n",
    "X_train = sc.fit_transform(X_Data_Tr)"
   ]
  },
  {
   "cell_type": "code",
   "execution_count": 15,
   "metadata": {
    "collapsed": true
   },
   "outputs": [],
   "source": [
    "from keras.layers import Dense\n",
    "from keras.wrappers.scikit_learn import KerasClassifier\n",
    "\n",
    "# Define the model\n",
    "\n",
    "#Initialising the ANN\n",
    "model = Sequential()\n",
    "#Adding the input layer and the first hidden layet\n",
    "model.add(Dense(units = 10, kernel_initializer = 'uniform', input_dim = 24, activation = 'sigmoid'))\n",
    "#Adding the second hidden layer\n",
    "model.add(Dense(units = 10, kernel_initializer = 'uniform', activation = 'sigmoid'))\n",
    "\n",
    "model.add(Dense(units = 10, kernel_initializer = 'uniform', activation = 'sigmoid'))\n",
    "\n",
    "model.add(Dense(units = 10, kernel_initializer = 'uniform', activation = 'sigmoid'))\n",
    "\n",
    "\n",
    "\n",
    "model.add(Dense(units = 5, kernel_initializer = 'uniform', activation='softmax'))\n",
    "\n",
    "#Compile model\n",
    "model.compile(loss = 'categorical_crossentropy',optimizer='adam',metrics=['accuracy'])\n"
   ]
  },
  {
   "cell_type": "code",
   "execution_count": null,
   "metadata": {},
   "outputs": [
    {
     "name": "stdout",
     "output_type": "stream",
     "text": [
      "Epoch 1/100\n",
      "14993/14993 [==============================] - 3s 176us/step - loss: 1.4753 - acc: 0.2774\n",
      "Epoch 2/100\n",
      "14993/14993 [==============================] - 2s 165us/step - loss: 1.4665 - acc: 0.2783\n",
      "Epoch 3/100\n",
      "14993/14993 [==============================] - 3s 173us/step - loss: 1.4658 - acc: 0.2761\n",
      "Epoch 4/100\n",
      "14993/14993 [==============================] - 3s 170us/step - loss: 1.4656 - acc: 0.2723\n",
      "Epoch 5/100\n",
      "14993/14993 [==============================] - 3s 169us/step - loss: 1.4647 - acc: 0.2762\n",
      "Epoch 6/100\n",
      "14993/14993 [==============================] - 3s 173us/step - loss: 1.4633 - acc: 0.2813\n",
      "Epoch 7/100\n",
      "14993/14993 [==============================] - 2s 163us/step - loss: 1.4601 - acc: 0.2847\n",
      "Epoch 8/100\n",
      "14993/14993 [==============================] - 3s 177us/step - loss: 1.4561 - acc: 0.2920\n",
      "Epoch 9/100\n",
      "14993/14993 [==============================] - 3s 178us/step - loss: 1.4498 - acc: 0.3117\n",
      "Epoch 10/100\n",
      "14993/14993 [==============================] - 3s 194us/step - loss: 1.4426 - acc: 0.3221\n",
      "Epoch 11/100\n",
      "14993/14993 [==============================] - 3s 215us/step - loss: 1.4360 - acc: 0.3282\n",
      "Epoch 12/100\n",
      "14993/14993 [==============================] - 3s 212us/step - loss: 1.4313 - acc: 0.3343\n",
      "Epoch 13/100\n",
      "14993/14993 [==============================] - 3s 222us/step - loss: 1.4285 - acc: 0.3374\n",
      "Epoch 14/100\n",
      "14993/14993 [==============================] - 2s 149us/step - loss: 1.4256 - acc: 0.3401\n",
      "Epoch 15/100\n",
      "14993/14993 [==============================] - 2s 147us/step - loss: 1.4224 - acc: 0.3436\n",
      "Epoch 16/100\n",
      "14993/14993 [==============================] - 3s 198us/step - loss: 1.4194 - acc: 0.3477\n",
      "Epoch 17/100\n",
      "14993/14993 [==============================] - 3s 191us/step - loss: 1.4160 - acc: 0.3525\n",
      "Epoch 18/100\n",
      "14993/14993 [==============================] - 3s 170us/step - loss: 1.4132 - acc: 0.3564\n",
      "Epoch 19/100\n",
      "14993/14993 [==============================] - 3s 173us/step - loss: 1.4113 - acc: 0.3581\n",
      "Epoch 20/100\n",
      "14993/14993 [==============================] - 3s 213us/step - loss: 1.4099 - acc: 0.3588\n",
      "Epoch 21/100\n",
      "14993/14993 [==============================] - 3s 187us/step - loss: 1.4090 - acc: 0.3626\n",
      "Epoch 22/100\n",
      "14993/14993 [==============================] - 2s 144us/step - loss: 1.4087 - acc: 0.3626\n",
      "Epoch 23/100\n",
      "14993/14993 [==============================] - 2s 134us/step - loss: 1.4077 - acc: 0.3631\n",
      "Epoch 24/100\n",
      "14993/14993 [==============================] - 3s 190us/step - loss: 1.4072 - acc: 0.3637 1s - l\n",
      "Epoch 25/100\n",
      "14993/14993 [==============================] - 3s 230us/step - loss: 1.4072 - acc: 0.3656\n",
      "Epoch 26/100\n",
      "14993/14993 [==============================] - 3s 211us/step - loss: 1.4066 - acc: 0.3648\n",
      "Epoch 27/100\n",
      "14993/14993 [==============================] - 3s 224us/step - loss: 1.4058 - acc: 0.3658\n",
      "Epoch 28/100\n",
      "14993/14993 [==============================] - 3s 209us/step - loss: 1.4056 - acc: 0.3676\n",
      "Epoch 29/100\n",
      "14993/14993 [==============================] - 3s 221us/step - loss: 1.4057 - acc: 0.3648\n",
      "Epoch 30/100\n",
      "14993/14993 [==============================] - 4s 284us/step - loss: 1.4051 - acc: 0.3662 1s - lo\n",
      "Epoch 31/100\n",
      "14993/14993 [==============================] - 4s 243us/step - loss: 1.4048 - acc: 0.3657\n",
      "Epoch 32/100\n",
      "14993/14993 [==============================] - 3s 173us/step - loss: 1.4043 - acc: 0.3683\n",
      "Epoch 33/100\n",
      "14993/14993 [==============================] - 3s 228us/step - loss: 1.4048 - acc: 0.3666\n",
      "Epoch 34/100\n",
      "14993/14993 [==============================] - 3s 178us/step - loss: 1.4042 - acc: 0.3670\n",
      "Epoch 35/100\n",
      "14993/14993 [==============================] - 2s 146us/step - loss: 1.4041 - acc: 0.3682\n",
      "Epoch 36/100\n",
      "14993/14993 [==============================] - 2s 162us/step - loss: 1.4032 - acc: 0.3696\n",
      "Epoch 37/100\n",
      "14993/14993 [==============================] - 2s 133us/step - loss: 1.4039 - acc: 0.3700\n",
      "Epoch 38/100\n",
      "14993/14993 [==============================] - 2s 143us/step - loss: 1.4033 - acc: 0.3684\n",
      "Epoch 39/100\n",
      "14993/14993 [==============================] - 2s 154us/step - loss: 1.4027 - acc: 0.3680\n",
      "Epoch 40/100\n",
      "14993/14993 [==============================] - 2s 157us/step - loss: 1.4027 - acc: 0.3670\n",
      "Epoch 41/100\n",
      "14993/14993 [==============================] - 4s 242us/step - loss: 1.4024 - acc: 0.3698\n",
      "Epoch 42/100\n",
      "14993/14993 [==============================] - 2s 154us/step - loss: 1.4016 - acc: 0.3712\n",
      "Epoch 43/100\n",
      "14993/14993 [==============================] - 2s 157us/step - loss: 1.4014 - acc: 0.3687\n",
      "Epoch 44/100\n",
      "14993/14993 [==============================] - 3s 190us/step - loss: 1.4010 - acc: 0.3694\n",
      "Epoch 45/100\n",
      "14993/14993 [==============================] - 3s 181us/step - loss: 1.4000 - acc: 0.3720\n",
      "Epoch 46/100\n",
      "14993/14993 [==============================] - 3s 174us/step - loss: 1.4002 - acc: 0.3706\n",
      "Epoch 47/100\n",
      "14993/14993 [==============================] - 2s 148us/step - loss: 1.3995 - acc: 0.3714\n",
      "Epoch 48/100\n",
      "14993/14993 [==============================] - 3s 167us/step - loss: 1.3999 - acc: 0.3732\n",
      "Epoch 49/100\n",
      "14993/14993 [==============================] - 3s 191us/step - loss: 1.3997 - acc: 0.3701\n",
      "Epoch 50/100\n",
      "14993/14993 [==============================] - 3s 227us/step - loss: 1.3990 - acc: 0.3700 0s - loss: 1.4006 -\n",
      "Epoch 51/100\n",
      "14993/14993 [==============================] - 3s 223us/step - loss: 1.3986 - acc: 0.3738\n",
      "Epoch 52/100\n",
      "14993/14993 [==============================] - 4s 276us/step - loss: 1.3984 - acc: 0.3721\n",
      "Epoch 53/100\n",
      "14993/14993 [==============================] - 4s 259us/step - loss: 1.3979 - acc: 0.3730\n",
      "Epoch 54/100\n",
      "14993/14993 [==============================] - 3s 214us/step - loss: 1.3972 - acc: 0.3728\n",
      "Epoch 55/100\n",
      "14993/14993 [==============================] - 3s 207us/step - loss: 1.3974 - acc: 0.3718\n",
      "Epoch 56/100\n",
      "14993/14993 [==============================] - 3s 193us/step - loss: 1.3968 - acc: 0.3727\n",
      "Epoch 57/100\n",
      "14993/14993 [==============================] - 3s 207us/step - loss: 1.3970 - acc: 0.3739\n",
      "Epoch 58/100\n",
      "13470/14993 [=========================>....] - ETA: 0s - loss: 1.3964 - acc: 0.3745"
     ]
    }
   ],
   "source": [
    "model.fit(X_train, dummy_y_Tr, batch_size = 10, epochs = 100)"
   ]
  },
  {
   "cell_type": "code",
   "execution_count": 52,
   "metadata": {
    "collapsed": true
   },
   "outputs": [],
   "source": [
    "data_Te = pd.read_csv(\"test.csv\") \n",
    "data_Sr_Te = pd.read_csv(\"sentiment_data_TEST.csv\") "
   ]
  },
  {
   "cell_type": "code",
   "execution_count": 53,
   "metadata": {
    "collapsed": true
   },
   "outputs": [],
   "source": [
    "Data_Te = data_Te.drop(['Name', 'RescuerID','Description','PetID'], axis=1)\n",
    "Data_Sr_Te = data_Sr_Te.drop(['PetID','dom_color','has_eng_description'],axis = 1)"
   ]
  },
  {
   "cell_type": "code",
   "execution_count": 54,
   "metadata": {
    "collapsed": true
   },
   "outputs": [],
   "source": [
    "Data_Sr_Te = Data_Sr_Te.drop(Data_Sr_Te.columns[0], axis=1)\n"
   ]
  },
  {
   "cell_type": "code",
   "execution_count": 55,
   "metadata": {
    "collapsed": true
   },
   "outputs": [],
   "source": [
    "Data_Final_Te = pd.concat([Data_Te, Data_Sr_Te], axis=1)\n"
   ]
  },
  {
   "cell_type": "code",
   "execution_count": 56,
   "metadata": {},
   "outputs": [
    {
     "data": {
      "text/html": [
       "<div>\n",
       "<style>\n",
       "    .dataframe thead tr:only-child th {\n",
       "        text-align: right;\n",
       "    }\n",
       "\n",
       "    .dataframe thead th {\n",
       "        text-align: left;\n",
       "    }\n",
       "\n",
       "    .dataframe tbody tr th {\n",
       "        vertical-align: top;\n",
       "    }\n",
       "</style>\n",
       "<table border=\"1\" class=\"dataframe\">\n",
       "  <thead>\n",
       "    <tr style=\"text-align: right;\">\n",
       "      <th></th>\n",
       "      <th>Type</th>\n",
       "      <th>Age</th>\n",
       "      <th>Breed1</th>\n",
       "      <th>Breed2</th>\n",
       "      <th>Gender</th>\n",
       "      <th>Color1</th>\n",
       "      <th>Color2</th>\n",
       "      <th>Color3</th>\n",
       "      <th>MaturitySize</th>\n",
       "      <th>FurLength</th>\n",
       "      <th>...</th>\n",
       "      <th>Quantity</th>\n",
       "      <th>Fee</th>\n",
       "      <th>State</th>\n",
       "      <th>VideoAmt</th>\n",
       "      <th>PhotoAmt</th>\n",
       "      <th>doc_mag_corr</th>\n",
       "      <th>doc_score</th>\n",
       "      <th>sent_count</th>\n",
       "      <th>sen1_magnitude</th>\n",
       "      <th>sen1_score</th>\n",
       "    </tr>\n",
       "  </thead>\n",
       "  <tbody>\n",
       "    <tr>\n",
       "      <th>0</th>\n",
       "      <td>1</td>\n",
       "      <td>2</td>\n",
       "      <td>307</td>\n",
       "      <td>0</td>\n",
       "      <td>1</td>\n",
       "      <td>1</td>\n",
       "      <td>0</td>\n",
       "      <td>0</td>\n",
       "      <td>2</td>\n",
       "      <td>2</td>\n",
       "      <td>...</td>\n",
       "      <td>1</td>\n",
       "      <td>150</td>\n",
       "      <td>41326</td>\n",
       "      <td>0</td>\n",
       "      <td>3.0</td>\n",
       "      <td>0.750</td>\n",
       "      <td>0.7</td>\n",
       "      <td>2.0</td>\n",
       "      <td>0.8</td>\n",
       "      <td>0.8</td>\n",
       "    </tr>\n",
       "    <tr>\n",
       "      <th>1</th>\n",
       "      <td>2</td>\n",
       "      <td>24</td>\n",
       "      <td>266</td>\n",
       "      <td>0</td>\n",
       "      <td>1</td>\n",
       "      <td>2</td>\n",
       "      <td>7</td>\n",
       "      <td>0</td>\n",
       "      <td>2</td>\n",
       "      <td>1</td>\n",
       "      <td>...</td>\n",
       "      <td>1</td>\n",
       "      <td>0</td>\n",
       "      <td>41326</td>\n",
       "      <td>0</td>\n",
       "      <td>1.0</td>\n",
       "      <td>0.000</td>\n",
       "      <td>0.0</td>\n",
       "      <td>2.0</td>\n",
       "      <td>0.0</td>\n",
       "      <td>0.0</td>\n",
       "    </tr>\n",
       "    <tr>\n",
       "      <th>2</th>\n",
       "      <td>2</td>\n",
       "      <td>20</td>\n",
       "      <td>266</td>\n",
       "      <td>0</td>\n",
       "      <td>2</td>\n",
       "      <td>7</td>\n",
       "      <td>0</td>\n",
       "      <td>0</td>\n",
       "      <td>2</td>\n",
       "      <td>1</td>\n",
       "      <td>...</td>\n",
       "      <td>1</td>\n",
       "      <td>150</td>\n",
       "      <td>41326</td>\n",
       "      <td>0</td>\n",
       "      <td>1.0</td>\n",
       "      <td>0.375</td>\n",
       "      <td>0.1</td>\n",
       "      <td>4.0</td>\n",
       "      <td>0.4</td>\n",
       "      <td>0.4</td>\n",
       "    </tr>\n",
       "    <tr>\n",
       "      <th>3</th>\n",
       "      <td>2</td>\n",
       "      <td>5</td>\n",
       "      <td>266</td>\n",
       "      <td>252</td>\n",
       "      <td>2</td>\n",
       "      <td>1</td>\n",
       "      <td>6</td>\n",
       "      <td>7</td>\n",
       "      <td>2</td>\n",
       "      <td>1</td>\n",
       "      <td>...</td>\n",
       "      <td>1</td>\n",
       "      <td>100</td>\n",
       "      <td>41326</td>\n",
       "      <td>0</td>\n",
       "      <td>1.0</td>\n",
       "      <td>0.440</td>\n",
       "      <td>0.3</td>\n",
       "      <td>5.0</td>\n",
       "      <td>0.0</td>\n",
       "      <td>0.0</td>\n",
       "    </tr>\n",
       "    <tr>\n",
       "      <th>4</th>\n",
       "      <td>1</td>\n",
       "      <td>6</td>\n",
       "      <td>307</td>\n",
       "      <td>0</td>\n",
       "      <td>2</td>\n",
       "      <td>1</td>\n",
       "      <td>2</td>\n",
       "      <td>7</td>\n",
       "      <td>2</td>\n",
       "      <td>1</td>\n",
       "      <td>...</td>\n",
       "      <td>1</td>\n",
       "      <td>150</td>\n",
       "      <td>41326</td>\n",
       "      <td>0</td>\n",
       "      <td>1.0</td>\n",
       "      <td>0.275</td>\n",
       "      <td>0.2</td>\n",
       "      <td>4.0</td>\n",
       "      <td>0.1</td>\n",
       "      <td>0.1</td>\n",
       "    </tr>\n",
       "  </tbody>\n",
       "</table>\n",
       "<p>5 rows × 24 columns</p>\n",
       "</div>"
      ],
      "text/plain": [
       "   Type  Age  Breed1  Breed2  Gender  Color1  Color2  Color3  MaturitySize  \\\n",
       "0     1    2     307       0       1       1       0       0             2   \n",
       "1     2   24     266       0       1       2       7       0             2   \n",
       "2     2   20     266       0       2       7       0       0             2   \n",
       "3     2    5     266     252       2       1       6       7             2   \n",
       "4     1    6     307       0       2       1       2       7             2   \n",
       "\n",
       "   FurLength     ...      Quantity  Fee  State  VideoAmt  PhotoAmt  \\\n",
       "0          2     ...             1  150  41326         0       3.0   \n",
       "1          1     ...             1    0  41326         0       1.0   \n",
       "2          1     ...             1  150  41326         0       1.0   \n",
       "3          1     ...             1  100  41326         0       1.0   \n",
       "4          1     ...             1  150  41326         0       1.0   \n",
       "\n",
       "   doc_mag_corr  doc_score  sent_count  sen1_magnitude  sen1_score  \n",
       "0         0.750        0.7         2.0             0.8         0.8  \n",
       "1         0.000        0.0         2.0             0.0         0.0  \n",
       "2         0.375        0.1         4.0             0.4         0.4  \n",
       "3         0.440        0.3         5.0             0.0         0.0  \n",
       "4         0.275        0.2         4.0             0.1         0.1  \n",
       "\n",
       "[5 rows x 24 columns]"
      ]
     },
     "execution_count": 56,
     "metadata": {},
     "output_type": "execute_result"
    }
   ],
   "source": [
    "Data_Final_Te.head()"
   ]
  },
  {
   "cell_type": "code",
   "execution_count": 57,
   "metadata": {
    "collapsed": true
   },
   "outputs": [],
   "source": [
    "Data_Final_Te = Data_Final_Te.fillna(0)"
   ]
  },
  {
   "cell_type": "code",
   "execution_count": 58,
   "metadata": {},
   "outputs": [
    {
     "name": "stdout",
     "output_type": "stream",
     "text": [
      "<class 'pandas.core.frame.DataFrame'>\n",
      "RangeIndex: 3948 entries, 0 to 3947\n",
      "Data columns (total 24 columns):\n",
      "Type              3948 non-null int64\n",
      "Age               3948 non-null int64\n",
      "Breed1            3948 non-null int64\n",
      "Breed2            3948 non-null int64\n",
      "Gender            3948 non-null int64\n",
      "Color1            3948 non-null int64\n",
      "Color2            3948 non-null int64\n",
      "Color3            3948 non-null int64\n",
      "MaturitySize      3948 non-null int64\n",
      "FurLength         3948 non-null int64\n",
      "Vaccinated        3948 non-null int64\n",
      "Dewormed          3948 non-null int64\n",
      "Sterilized        3948 non-null int64\n",
      "Health            3948 non-null int64\n",
      "Quantity          3948 non-null int64\n",
      "Fee               3948 non-null int64\n",
      "State             3948 non-null int64\n",
      "VideoAmt          3948 non-null int64\n",
      "PhotoAmt          3948 non-null float64\n",
      "doc_mag_corr      3948 non-null float64\n",
      "doc_score         3948 non-null float64\n",
      "sent_count        3948 non-null float64\n",
      "sen1_magnitude    3948 non-null float64\n",
      "sen1_score        3948 non-null float64\n",
      "dtypes: float64(6), int64(18)\n",
      "memory usage: 740.3 KB\n"
     ]
    }
   ],
   "source": [
    "Data_Final_Te.info()"
   ]
  },
  {
   "cell_type": "code",
   "execution_count": 59,
   "metadata": {
    "collapsed": true
   },
   "outputs": [],
   "source": [
    "R_Data_F_Te = np.asmatrix(Data_Final_Te)\n"
   ]
  },
  {
   "cell_type": "code",
   "execution_count": 61,
   "metadata": {
    "collapsed": true
   },
   "outputs": [],
   "source": [
    "X_Data_Te = R_Data_F_Te[:,0:24]\n",
    "#Y_Data_Te = R_Data_F_Te[:,24]"
   ]
  },
  {
   "cell_type": "code",
   "execution_count": 62,
   "metadata": {
    "collapsed": true
   },
   "outputs": [],
   "source": [
    "sc = StandardScaler()\n",
    "X_test = sc.fit_transform(X_Data_Te)"
   ]
  },
  {
   "cell_type": "code",
   "execution_count": 63,
   "metadata": {
    "collapsed": true
   },
   "outputs": [],
   "source": [
    "Y_pred_Te = model.predict(X_test)\n"
   ]
  },
  {
   "cell_type": "code",
   "execution_count": 64,
   "metadata": {
    "collapsed": true
   },
   "outputs": [],
   "source": [
    "Pred_te = np.argmax(Y_pred_Te,axis=1)\n"
   ]
  },
  {
   "cell_type": "code",
   "execution_count": 65,
   "metadata": {},
   "outputs": [
    {
     "name": "stdout",
     "output_type": "stream",
     "text": [
      "3948\n"
     ]
    }
   ],
   "source": [
    "PetID =np.asarray(data_Te['PetID'],dtype = str)\n",
    "print(PetID.shape[0])"
   ]
  },
  {
   "cell_type": "code",
   "execution_count": 66,
   "metadata": {
    "collapsed": true
   },
   "outputs": [],
   "source": [
    "import csv\n",
    "n = PetID.shape[0]\n",
    "\n",
    "with open('mysubmission_Sent.csv','w',newline = '') as f:\n",
    "    thewriter = csv.writer(f)\n",
    "    thewriter.writerow(['PetID','AdoptionSpeed'])\n",
    "\n",
    "    for x in range(0, n):\n",
    "        thewriter.writerow([PetID[x],Pred_te[x]])\n",
    "    #thewriter.writecolumn(['one','two','three'])\n"
   ]
  },
  {
   "cell_type": "code",
   "execution_count": null,
   "metadata": {
    "collapsed": true
   },
   "outputs": [],
   "source": []
  }
 ],
 "metadata": {
  "kernelspec": {
   "display_name": "Python 3",
   "language": "python",
   "name": "python3"
  },
  "language_info": {
   "codemirror_mode": {
    "name": "ipython",
    "version": 3
   },
   "file_extension": ".py",
   "mimetype": "text/x-python",
   "name": "python",
   "nbconvert_exporter": "python",
   "pygments_lexer": "ipython3",
   "version": "3.6.1"
  }
 },
 "nbformat": 4,
 "nbformat_minor": 2
}
