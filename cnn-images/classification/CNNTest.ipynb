{
 "cells": [
  {
   "cell_type": "code",
   "execution_count": 40,
   "metadata": {},
   "outputs": [
    {
     "data": {
      "text/plain": [
       "'1.12.0'"
      ]
     },
     "execution_count": 40,
     "metadata": {},
     "output_type": "execute_result"
    }
   ],
   "source": [
    "import numpy as np \n",
    "import tensorflow as tf\n",
    "%matplotlib inline \n",
    "from keras.models import Sequential\n",
    "import matplotlib\n",
    "import matplotlib.pyplot as plt\n",
    "\n",
    "\n",
    "BATCH_SIZE = 10000\n",
    "EPOCHS = 10\n",
    "IMG_SIZE = 64\n",
    "\n",
    "model_name = \"pets_{}pixels_{}epochs\".format(IMG_SIZE, EPOCHS)\n",
    "model_name = 'pets_64pixels_15epochs'\n",
    "tf.__version__"
   ]
  },
  {
   "cell_type": "code",
   "execution_count": 41,
   "metadata": {},
   "outputs": [],
   "source": [
    "import glob\n",
    "\n",
    "TEST_IMAGES_PATH = 'C:/Users/madad/Documents/dataset/images/test-resized/'\n",
    "\n",
    "# get the filepaths for the images\n",
    "data_files = glob.glob(TEST_IMAGES_PATH + '**/*.jpg', recursive=True)"
   ]
  },
  {
   "cell_type": "code",
   "execution_count": 42,
   "metadata": {},
   "outputs": [
    {
     "name": "stdout",
     "output_type": "stream",
     "text": [
      "Loaded model from disk\n"
     ]
    }
   ],
   "source": [
    "from keras.models import model_from_json\n",
    "# load json and create model\n",
    "json_file = open(model_name + '.json', 'r')\n",
    "loaded_model_json = json_file.read()\n",
    "json_file.close()\n",
    "model = model_from_json(loaded_model_json)\n",
    "# load weights into new model\n",
    "model.load_weights(model_name + \".h5\")\n",
    "print(\"Loaded model from disk\")"
   ]
  },
  {
   "cell_type": "code",
   "execution_count": 43,
   "metadata": {},
   "outputs": [],
   "source": [
    "import numpy as np\n",
    "from PIL import Image\n",
    "import os\n",
    "import re\n",
    "\n",
    "first_file = os.path.basename(data_files[0]).split('-')[0]\n",
    "sum_pred = 0\n",
    "size_pred = 1\n",
    "# result arrays\n",
    "pet_id = []\n",
    "pred_fin = []\n",
    "# result dictionary\n",
    "dict_res = {}\n",
    "\n",
    "# loop over the images\n",
    "# open and predict for each of them\n",
    "for i in range (1, len(data_files)):\n",
    "    image = Image.open(data_files[i]).convert('RGB')\n",
    "    \n",
    "    image = np.asarray(image)\n",
    "    image.shape = (1, 64, 64, 3)\n",
    "                \n",
    "    prediction = np.argmax(model.predict(image))\n",
    "                \n",
    "    second_file = os.path.basename(data_files[i]).split('-')[0]\n",
    "    \n",
    "    if first_file == second_file:\n",
    "        sum_pred = sum_pred + prediction\n",
    "        size_pred = size_pred + 1\n",
    "        dict_res[first_file] = sum_pred\n",
    "        # process the last pet_id \n",
    "        if i == len(data_files) - 1:\n",
    "            pet_id.append(first_file)\n",
    "            pred_fin.append(sum_pred//size_pred)\n",
    "            dict_res[first_file] = sum_pred//size_pred\n",
    "    else:\n",
    "        pet_id.append(first_file)\n",
    "        pred_fin.append(sum_pred//size_pred)\n",
    "        dict_res[first_file] = sum_pred//size_pred\n",
    "        sum_pred = 0\n",
    "        size_pred = 1\n",
    "    first_file = second_file\n",
    "\n",
    "assert(len(pet_id) == len(pred_fin))\n",
    "assert(len(pet_id) == len(dict_res))"
   ]
  },
  {
   "cell_type": "code",
   "execution_count": 44,
   "metadata": {
    "scrolled": true
   },
   "outputs": [
    {
     "data": {
      "text/html": [
       "<div>\n",
       "<style scoped>\n",
       "    .dataframe tbody tr th:only-of-type {\n",
       "        vertical-align: middle;\n",
       "    }\n",
       "\n",
       "    .dataframe tbody tr th {\n",
       "        vertical-align: top;\n",
       "    }\n",
       "\n",
       "    .dataframe thead th {\n",
       "        text-align: right;\n",
       "    }\n",
       "</style>\n",
       "<table border=\"1\" class=\"dataframe\">\n",
       "  <thead>\n",
       "    <tr style=\"text-align: right;\">\n",
       "      <th></th>\n",
       "      <th>PetID</th>\n",
       "      <th>AdoptionSpeed</th>\n",
       "    </tr>\n",
       "  </thead>\n",
       "  <tbody>\n",
       "    <tr>\n",
       "      <th>0</th>\n",
       "      <td>378fcc4fc</td>\n",
       "      <td>0</td>\n",
       "    </tr>\n",
       "    <tr>\n",
       "      <th>1</th>\n",
       "      <td>73c10e136</td>\n",
       "      <td>0</td>\n",
       "    </tr>\n",
       "    <tr>\n",
       "      <th>2</th>\n",
       "      <td>72000c4c5</td>\n",
       "      <td>0</td>\n",
       "    </tr>\n",
       "    <tr>\n",
       "      <th>3</th>\n",
       "      <td>e147a4b9f</td>\n",
       "      <td>0</td>\n",
       "    </tr>\n",
       "    <tr>\n",
       "      <th>4</th>\n",
       "      <td>43fbba852</td>\n",
       "      <td>0</td>\n",
       "    </tr>\n",
       "  </tbody>\n",
       "</table>\n",
       "</div>"
      ],
      "text/plain": [
       "       PetID  AdoptionSpeed\n",
       "0  378fcc4fc              0\n",
       "1  73c10e136              0\n",
       "2  72000c4c5              0\n",
       "3  e147a4b9f              0\n",
       "4  43fbba852              0"
      ]
     },
     "execution_count": 44,
     "metadata": {},
     "output_type": "execute_result"
    }
   ],
   "source": [
    "import pandas as pd\n",
    "\n",
    "CSV_PATH = 'C:/Users/madad/Documents/dataset/sample_submission.csv'\n",
    "empty_sub_df = pd.read_csv(CSV_PATH, header=0, usecols=['AdoptionSpeed', 'PetID'])\n",
    "\n",
    "empty_sub_df.head()"
   ]
  },
  {
   "cell_type": "code",
   "execution_count": 45,
   "metadata": {},
   "outputs": [],
   "source": [
    "def exists_imgs_for_pet(data_files, petId):\n",
    "    if key in dict.keys():\n",
    "        return 1\n",
    "    return 0"
   ]
  },
  {
   "cell_type": "code",
   "execution_count": 46,
   "metadata": {},
   "outputs": [
    {
     "ename": "NameError",
     "evalue": "name 'key' is not defined",
     "output_type": "error",
     "traceback": [
      "\u001b[1;31m---------------------------------------------------------------------------\u001b[0m",
      "\u001b[1;31mNameError\u001b[0m                                 Traceback (most recent call last)",
      "\u001b[1;32m<ipython-input-46-78bd3392a39c>\u001b[0m in \u001b[0;36m<module>\u001b[1;34m\u001b[0m\n\u001b[0;32m      9\u001b[0m     \u001b[0mfound\u001b[0m \u001b[1;33m=\u001b[0m \u001b[1;36m0\u001b[0m\u001b[1;33m\u001b[0m\u001b[1;33m\u001b[0m\u001b[0m\n\u001b[0;32m     10\u001b[0m \u001b[1;33m\u001b[0m\u001b[0m\n\u001b[1;32m---> 11\u001b[1;33m     \u001b[0mfound\u001b[0m \u001b[1;33m=\u001b[0m \u001b[0mexists_imgs_for_pet\u001b[0m\u001b[1;33m(\u001b[0m\u001b[0mdict_res\u001b[0m\u001b[1;33m,\u001b[0m \u001b[0mpetId\u001b[0m\u001b[1;33m)\u001b[0m\u001b[1;33m\u001b[0m\u001b[1;33m\u001b[0m\u001b[0m\n\u001b[0m\u001b[0;32m     12\u001b[0m \u001b[1;33m\u001b[0m\u001b[0m\n\u001b[0;32m     13\u001b[0m     \u001b[1;32mif\u001b[0m \u001b[0mfound\u001b[0m \u001b[1;33m==\u001b[0m \u001b[1;36m1\u001b[0m\u001b[1;33m:\u001b[0m\u001b[1;33m\u001b[0m\u001b[1;33m\u001b[0m\u001b[0m\n",
      "\u001b[1;32m<ipython-input-45-18a101f1460d>\u001b[0m in \u001b[0;36mexists_imgs_for_pet\u001b[1;34m(data_files, petId)\u001b[0m\n\u001b[0;32m      1\u001b[0m \u001b[1;32mdef\u001b[0m \u001b[0mexists_imgs_for_pet\u001b[0m\u001b[1;33m(\u001b[0m\u001b[0mdata_files\u001b[0m\u001b[1;33m,\u001b[0m \u001b[0mpetId\u001b[0m\u001b[1;33m)\u001b[0m\u001b[1;33m:\u001b[0m\u001b[1;33m\u001b[0m\u001b[1;33m\u001b[0m\u001b[0m\n\u001b[1;32m----> 2\u001b[1;33m     \u001b[1;32mif\u001b[0m \u001b[0mkey\u001b[0m \u001b[1;32min\u001b[0m \u001b[0mdict\u001b[0m\u001b[1;33m.\u001b[0m\u001b[0mkeys\u001b[0m\u001b[1;33m(\u001b[0m\u001b[1;33m)\u001b[0m\u001b[1;33m:\u001b[0m\u001b[1;33m\u001b[0m\u001b[1;33m\u001b[0m\u001b[0m\n\u001b[0m\u001b[0;32m      3\u001b[0m         \u001b[1;32mreturn\u001b[0m \u001b[1;36m1\u001b[0m\u001b[1;33m\u001b[0m\u001b[1;33m\u001b[0m\u001b[0m\n\u001b[0;32m      4\u001b[0m     \u001b[1;32mreturn\u001b[0m \u001b[1;36m0\u001b[0m\u001b[1;33m\u001b[0m\u001b[1;33m\u001b[0m\u001b[0m\n",
      "\u001b[1;31mNameError\u001b[0m: name 'key' is not defined"
     ]
    }
   ],
   "source": [
    "sub_df = pd.DataFrame() \n",
    "\n",
    "for index, row in empty_sub_df.iterrows():\n",
    "\n",
    "    petId = str(row['PetID'])\n",
    "    \n",
    "    sum_avg = 0\n",
    "    size = 0 \n",
    "    found = 0\n",
    "\n",
    "    found = exists_imgs_for_pet(dict_res, petId)\n",
    "    \n",
    "    if found == 1:\n",
    "        row['PetID'] = petId\n",
    "        row['AdoptionSpeed'] = dict_res[petId]\n",
    "    else:\n",
    "        row['PetID'] = petId\n",
    "        row['AdoptionSpeed'] = 4\n",
    "    \n",
    "    sub_df = sub_df.append([row],ignore_index=True)\n",
    "        \n",
    "sub_df.head()"
   ]
  },
  {
   "cell_type": "code",
   "execution_count": null,
   "metadata": {},
   "outputs": [],
   "source": [
    "fin_sub.to_csv('submission.csv', encoding='utf-8', index=False)"
   ]
  },
  {
   "cell_type": "code",
   "execution_count": null,
   "metadata": {},
   "outputs": [],
   "source": []
  }
 ],
 "metadata": {
  "kernelspec": {
   "display_name": "Python 3",
   "language": "python",
   "name": "python3"
  },
  "language_info": {
   "codemirror_mode": {
    "name": "ipython",
    "version": 3
   },
   "file_extension": ".py",
   "mimetype": "text/x-python",
   "name": "python",
   "nbconvert_exporter": "python",
   "pygments_lexer": "ipython3",
   "version": "3.6.8"
  }
 },
 "nbformat": 4,
 "nbformat_minor": 2
}
