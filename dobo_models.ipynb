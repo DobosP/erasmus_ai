{
 "cells": [
  {
   "cell_type": "code",
   "execution_count": 4,
   "metadata": {},
   "outputs": [],
   "source": [
    "import random\n",
    "import pandas as pd\n",
    "import seaborn as sns\n",
    "\n",
    "import matplotlib.pyplot as plt\n",
    "import numpy as np\n",
    "import pydot\n",
    "\n",
    "from sklearn.externals.six import StringIO\n",
    "from sklearn.tree import export_graphviz\n",
    "import pydotplus\n",
    "import score_solution\n",
    "from sklearn.metrics import cohen_kappa_score, make_scorer\n",
    "\n",
    "\n",
    "\n",
    "df = pd.read_csv('all_train_data.csv')\n",
    "adoptionSpeed = df['AdoptionSpeed'] \n",
    "del df['AdoptionSpeed']"
   ]
  },
  {
   "cell_type": "code",
   "execution_count": 5,
   "metadata": {},
   "outputs": [],
   "source": [
    "from sklearn.model_selection import train_test_split\n",
    "\n",
    "\n",
    "\n",
    "\n",
    "train_data, test_data, adoptionSpeed, correct_ans = train_test_split(df, adoptionSpeed, test_size=0.1)\n",
    "\n",
    "\n",
    "\n",
    "\n",
    "del train_data[\"Name\"]\n",
    "del train_data[\"RescuerID\"]\n",
    "del train_data[\"Description\"]\n",
    "del train_data[\"PetID\"]\n",
    "\n",
    "\n",
    "del test_data[\"Name\"]\n",
    "del test_data[\"RescuerID\"]\n",
    "del test_data[\"Description\"]\n",
    "del test_data[\"PetID\"]\n",
    "\n",
    "train_data = train_data.fillna(0)\n",
    "test_data = test_data.fillna(0)\n",
    "\n",
    "\n"
   ]
  },
  {
   "cell_type": "code",
   "execution_count": 6,
   "metadata": {},
   "outputs": [],
   "source": [
    "from sklearn.datasets import load_boston\n"
   ]
  },
  {
   "cell_type": "code",
   "execution_count": 7,
   "metadata": {},
   "outputs": [
    {
     "data": {
      "text/plain": [
       "(13493, 34)"
      ]
     },
     "execution_count": 7,
     "metadata": {},
     "output_type": "execute_result"
    }
   ],
   "source": [
    "train_data.shape"
   ]
  },
  {
   "cell_type": "code",
   "execution_count": 10,
   "metadata": {},
   "outputs": [],
   "source": [
    "\n",
    "kappa_eval = make_scorer(cohen_kappa_score)\n"
   ]
  },
  {
   "cell_type": "code",
   "execution_count": null,
   "metadata": {},
   "outputs": [],
   "source": []
  },
  {
   "cell_type": "code",
   "execution_count": 13,
   "metadata": {},
   "outputs": [
    {
     "name": "stderr",
     "output_type": "stream",
     "text": [
      "/usr/local/lib/python3.6/dist-packages/ipykernel_launcher.py:10: DeprecationWarning: object of type <class 'float'> cannot be safely interpreted as an integer.\n",
      "  # Remove the CWD from sys.path while we load stuff.\n",
      "/usr/local/lib/python3.6/dist-packages/ipykernel_launcher.py:13: DeprecationWarning: object of type <class 'float'> cannot be safely interpreted as an integer.\n",
      "  del sys.path[0]\n"
     ]
    },
    {
     "data": {
      "text/plain": [
       "{'learning_rate': [],\n",
       " 'max_depth': [3],\n",
       " 'subsample': [0.8, 0.9, 1],\n",
       " 'colsample_bytree': [],\n",
       " 'gamma': [0, 1, 5],\n",
       " 'n_estimators': [300, 416, 533, 650, 766, 883, 1000]}"
      ]
     },
     "execution_count": 13,
     "metadata": {},
     "output_type": "execute_result"
    }
   ],
   "source": [
    "from sklearn.model_selection import RandomizedSearchCV\n",
    "from sklearn.model_selection import GridSearchCV\n",
    "from xgboost import XGBClassifier\n",
    "\n",
    "\n",
    "# Number of trees in random forest\n",
    "n_estimators = [int(x) for x in np.linspace(start = 300, stop = 1000, num = 7)]\n",
    "# Number of features to consider at every split\n",
    "max_depths = [int(x) for x in np.linspace(3, 6, num = 1)]\n",
    "learning_rate = [float(x) for x in np.linspace(0.01, 0.1, num = 0.02)]\n",
    "subsample = [0.8, 0.9, 1]\n",
    "# Minimum number of samples required at each leaf node\n",
    "colsample_bytree = [float(x) for x in np.linspace(0.3, 0.8, num = 0.2)]\n",
    "# Method of selecting samples for training each tree\n",
    "gamma = [0, 1, 5]\n",
    "\n",
    "\n",
    "random_grid = {\n",
    "    'learning_rate': learning_rate,\n",
    "    'max_depth': max_depths,\n",
    "    'subsample': subsample,\n",
    "    'colsample_bytree': colsample_bytree,\n",
    "    'gamma': gamma,\n",
    "    'n_estimators': n_estimators}\n",
    "\n",
    "\n",
    "\n",
    "\n",
    "\n",
    "random_grid\n",
    "\n",
    "\n"
   ]
  },
  {
   "cell_type": "code",
   "execution_count": 14,
   "metadata": {},
   "outputs": [
    {
     "name": "stdout",
     "output_type": "stream",
     "text": [
      "Fitting 3 folds for each of 0 candidates, totalling 0 fits\n"
     ]
    },
    {
     "name": "stderr",
     "output_type": "stream",
     "text": [
      "/usr/local/lib/python3.6/dist-packages/sklearn/model_selection/_search.py:271: UserWarning: The total space of parameters 0 is smaller than n_iter=100. Running 0 iterations. For exhaustive searches, use GridSearchCV.\n",
      "  % (grid_size, self.n_iter, grid_size), UserWarning)\n",
      "[Parallel(n_jobs=4)]: Using backend LokyBackend with 4 concurrent workers.\n",
      "[Parallel(n_jobs=4)]: Done   0 out of   0 | elapsed:    0.0s finished\n"
     ]
    },
    {
     "ename": "ValueError",
     "evalue": "not enough values to unpack (expected 5, got 0)",
     "output_type": "error",
     "traceback": [
      "\u001b[0;31m---------------------------------------------------------------------------\u001b[0m",
      "\u001b[0;31mValueError\u001b[0m                                Traceback (most recent call last)",
      "\u001b[0;32m<ipython-input-14-a80a1e657adc>\u001b[0m in \u001b[0;36m<module>\u001b[0;34m\u001b[0m\n\u001b[1;32m      6\u001b[0m )\n\u001b[1;32m      7\u001b[0m \u001b[0;31m# Fit the random search model\u001b[0m\u001b[0;34m\u001b[0m\u001b[0;34m\u001b[0m\u001b[0;34m\u001b[0m\u001b[0m\n\u001b[0;32m----> 8\u001b[0;31m \u001b[0mxgb_random\u001b[0m\u001b[0;34m.\u001b[0m\u001b[0mfit\u001b[0m\u001b[0;34m(\u001b[0m\u001b[0mtrain_data\u001b[0m\u001b[0;34m,\u001b[0m \u001b[0madoptionSpeed\u001b[0m\u001b[0;34m)\u001b[0m\u001b[0;34m\u001b[0m\u001b[0;34m\u001b[0m\u001b[0m\n\u001b[0m\u001b[1;32m      9\u001b[0m \u001b[0mbest_random\u001b[0m \u001b[0;34m=\u001b[0m \u001b[0mrf_random\u001b[0m\u001b[0;34m.\u001b[0m\u001b[0mbest_estimator_\u001b[0m\u001b[0;34m\u001b[0m\u001b[0;34m\u001b[0m\u001b[0m\n\u001b[1;32m     10\u001b[0m \u001b[0mprint\u001b[0m\u001b[0;34m(\u001b[0m\u001b[0mbest_random\u001b[0m\u001b[0;34m)\u001b[0m\u001b[0;34m\u001b[0m\u001b[0;34m\u001b[0m\u001b[0m\n",
      "\u001b[0;32m/usr/local/lib/python3.6/dist-packages/sklearn/model_selection/_search.py\u001b[0m in \u001b[0;36mfit\u001b[0;34m(self, X, y, groups, **fit_params)\u001b[0m\n\u001b[1;32m    720\u001b[0m                 \u001b[0;32mreturn\u001b[0m \u001b[0mresults_container\u001b[0m\u001b[0;34m[\u001b[0m\u001b[0;36m0\u001b[0m\u001b[0;34m]\u001b[0m\u001b[0;34m\u001b[0m\u001b[0;34m\u001b[0m\u001b[0m\n\u001b[1;32m    721\u001b[0m \u001b[0;34m\u001b[0m\u001b[0m\n\u001b[0;32m--> 722\u001b[0;31m             \u001b[0mself\u001b[0m\u001b[0;34m.\u001b[0m\u001b[0m_run_search\u001b[0m\u001b[0;34m(\u001b[0m\u001b[0mevaluate_candidates\u001b[0m\u001b[0;34m)\u001b[0m\u001b[0;34m\u001b[0m\u001b[0;34m\u001b[0m\u001b[0m\n\u001b[0m\u001b[1;32m    723\u001b[0m \u001b[0;34m\u001b[0m\u001b[0m\n\u001b[1;32m    724\u001b[0m         \u001b[0mresults\u001b[0m \u001b[0;34m=\u001b[0m \u001b[0mresults_container\u001b[0m\u001b[0;34m[\u001b[0m\u001b[0;36m0\u001b[0m\u001b[0;34m]\u001b[0m\u001b[0;34m\u001b[0m\u001b[0;34m\u001b[0m\u001b[0m\n",
      "\u001b[0;32m/usr/local/lib/python3.6/dist-packages/sklearn/model_selection/_search.py\u001b[0m in \u001b[0;36m_run_search\u001b[0;34m(self, evaluate_candidates)\u001b[0m\n\u001b[1;32m   1513\u001b[0m         evaluate_candidates(ParameterSampler(\n\u001b[1;32m   1514\u001b[0m             \u001b[0mself\u001b[0m\u001b[0;34m.\u001b[0m\u001b[0mparam_distributions\u001b[0m\u001b[0;34m,\u001b[0m \u001b[0mself\u001b[0m\u001b[0;34m.\u001b[0m\u001b[0mn_iter\u001b[0m\u001b[0;34m,\u001b[0m\u001b[0;34m\u001b[0m\u001b[0;34m\u001b[0m\u001b[0m\n\u001b[0;32m-> 1515\u001b[0;31m             random_state=self.random_state))\n\u001b[0m",
      "\u001b[0;32m/usr/local/lib/python3.6/dist-packages/sklearn/model_selection/_search.py\u001b[0m in \u001b[0;36mevaluate_candidates\u001b[0;34m(candidate_params)\u001b[0m\n\u001b[1;32m    717\u001b[0m                 \u001b[0;31m# instead of results_container\u001b[0m\u001b[0;34m\u001b[0m\u001b[0;34m\u001b[0m\u001b[0;34m\u001b[0m\u001b[0m\n\u001b[1;32m    718\u001b[0m                 results_container[0] = self._format_results(\n\u001b[0;32m--> 719\u001b[0;31m                     all_candidate_params, scorers, n_splits, all_out)\n\u001b[0m\u001b[1;32m    720\u001b[0m                 \u001b[0;32mreturn\u001b[0m \u001b[0mresults_container\u001b[0m\u001b[0;34m[\u001b[0m\u001b[0;36m0\u001b[0m\u001b[0;34m]\u001b[0m\u001b[0;34m\u001b[0m\u001b[0;34m\u001b[0m\u001b[0m\n\u001b[1;32m    721\u001b[0m \u001b[0;34m\u001b[0m\u001b[0m\n",
      "\u001b[0;32m/usr/local/lib/python3.6/dist-packages/sklearn/model_selection/_search.py\u001b[0m in \u001b[0;36m_format_results\u001b[0;34m(self, candidate_params, scorers, n_splits, out)\u001b[0m\n\u001b[1;32m    758\u001b[0m         \u001b[0;32mif\u001b[0m \u001b[0mself\u001b[0m\u001b[0;34m.\u001b[0m\u001b[0mreturn_train_score\u001b[0m\u001b[0;34m:\u001b[0m\u001b[0;34m\u001b[0m\u001b[0;34m\u001b[0m\u001b[0m\n\u001b[1;32m    759\u001b[0m             (train_score_dicts, test_score_dicts, test_sample_counts, fit_time,\n\u001b[0;32m--> 760\u001b[0;31m              score_time) = zip(*out)\n\u001b[0m\u001b[1;32m    761\u001b[0m         \u001b[0;32melse\u001b[0m\u001b[0;34m:\u001b[0m\u001b[0;34m\u001b[0m\u001b[0;34m\u001b[0m\u001b[0m\n\u001b[1;32m    762\u001b[0m             (test_score_dicts, test_sample_counts, fit_time,\n",
      "\u001b[0;31mValueError\u001b[0m: not enough values to unpack (expected 5, got 0)"
     ]
    }
   ],
   "source": [
    "xgb_model = XGBClassifier()\n",
    "xgb_random = RandomizedSearchCV(\n",
    "    estimator = xgb_model, param_distributions = random_grid,\n",
    "     n_iter = 100, cv = 3, verbose=2, random_state=13,\n",
    "     n_jobs = 4, scoring=kappa_eval\n",
    ")\n",
    "# Fit the random search model\n",
    "xgb_random.fit(train_data, adoptionSpeed)\n",
    "best_random = rf_random.best_estimator_\n",
    "print(best_random)\n",
    "ans = best_random.predict(test_data)\n",
    "best_random\n",
    "kappa_score = cohen_kappa_score(ans,correct_ans)\n",
    "kappa_score\n"
   ]
  },
  {
   "cell_type": "code",
   "execution_count": 24,
   "metadata": {},
   "outputs": [],
   "source": []
  },
  {
   "cell_type": "code",
   "execution_count": 8,
   "metadata": {},
   "outputs": [
    {
     "ename": "NameError",
     "evalue": "name 'ans' is not defined",
     "output_type": "error",
     "traceback": [
      "\u001b[0;31m---------------------------------------------------------------------------\u001b[0m",
      "\u001b[0;31mNameError\u001b[0m                                 Traceback (most recent call last)",
      "\u001b[0;32m<ipython-input-8-fd8a43a1e9a9>\u001b[0m in \u001b[0;36m<module>\u001b[0;34m\u001b[0m\n\u001b[0;32m----> 1\u001b[0;31m \u001b[0mkappa_score\u001b[0m \u001b[0;34m=\u001b[0m \u001b[0mscore_solution\u001b[0m\u001b[0;34m.\u001b[0m\u001b[0mkappa\u001b[0m\u001b[0;34m(\u001b[0m\u001b[0mans\u001b[0m\u001b[0;34m,\u001b[0m\u001b[0mcorrect_ans\u001b[0m\u001b[0;34m)\u001b[0m\u001b[0;34m\u001b[0m\u001b[0;34m\u001b[0m\u001b[0m\n\u001b[0m\u001b[1;32m      2\u001b[0m \u001b[0mkappa_score\u001b[0m\u001b[0;34m\u001b[0m\u001b[0;34m\u001b[0m\u001b[0m\n",
      "\u001b[0;31mNameError\u001b[0m: name 'ans' is not defined"
     ]
    }
   ],
   "source": []
  },
  {
   "cell_type": "code",
   "execution_count": 30,
   "metadata": {},
   "outputs": [
    {
     "data": {
      "text/plain": [
       "0.19953336025485735"
      ]
     },
     "execution_count": 30,
     "metadata": {},
     "output_type": "execute_result"
    }
   ],
   "source": [
    "from sklearn.ensemble import BaggingClassifier\n",
    "from sklearn.tree import DecisionTreeClassifier\n",
    "from sklearn.datasets import make_blobs\n",
    "\n",
    "bagging_model = BaggingClassifier(DecisionTreeClassifier(), n_estimators = 500,\n",
    "                            max_samples=0.5, max_features=0.5)\n",
    "\n",
    "\n",
    "bagging_model.fit(train_data, adoptionSpeed)\n",
    "ans = bagging_model.predict(test_data)\n",
    "kappa_score = score_solution.kappa(ans,correct_ans)\n",
    "kappa_score\n",
    "\n",
    "\n"
   ]
  },
  {
   "cell_type": "code",
   "execution_count": 9,
   "metadata": {
    "scrolled": false
   },
   "outputs": [
    {
     "name": "stdout",
     "output_type": "stream",
     "text": [
      "Fitting 3 folds for each of 100 candidates, totalling 300 fits\n"
     ]
    },
    {
     "name": "stderr",
     "output_type": "stream",
     "text": [
      "[Parallel(n_jobs=4)]: Using backend LokyBackend with 4 concurrent workers.\n",
      "[Parallel(n_jobs=4)]: Done  33 tasks      | elapsed:  3.3min\n",
      "[Parallel(n_jobs=4)]: Done 154 tasks      | elapsed: 18.9min\n",
      "[Parallel(n_jobs=4)]: Done 300 out of 300 | elapsed: 35.7min finished\n"
     ]
    },
    {
     "name": "stdout",
     "output_type": "stream",
     "text": [
      "RandomForestClassifier(bootstrap=False, class_weight=None, criterion='gini',\n",
      "            max_depth=None, max_features='sqrt', max_leaf_nodes=None,\n",
      "            min_impurity_decrease=0.0, min_impurity_split=None,\n",
      "            min_samples_leaf=2, min_samples_split=2,\n",
      "            min_weight_fraction_leaf=0.0, n_estimators=1000, n_jobs=None,\n",
      "            oob_score=False, random_state=None, verbose=0,\n",
      "            warm_start=False)\n"
     ]
    },
    {
     "data": {
      "text/plain": [
       "RandomForestClassifier(bootstrap=False, class_weight=None, criterion='gini',\n",
       "            max_depth=None, max_features='sqrt', max_leaf_nodes=None,\n",
       "            min_impurity_decrease=0.0, min_impurity_split=None,\n",
       "            min_samples_leaf=2, min_samples_split=2,\n",
       "            min_weight_fraction_leaf=0.0, n_estimators=1000, n_jobs=None,\n",
       "            oob_score=False, random_state=None, verbose=0,\n",
       "            warm_start=False)"
      ]
     },
     "execution_count": 9,
     "metadata": {},
     "output_type": "execute_result"
    }
   ],
   "source": [
    "from sklearn.ensemble import RandomForestClassifier\n",
    "from sklearn.model_selection import RandomizedSearchCV\n",
    "from sklearn.model_selection import GridSearchCV\n",
    "\n",
    "# Number of trees in random forest\n",
    "n_estimators = [int(x) for x in np.linspace(start = , stop = 1000, num = 7)]\n",
    "# Number of features to consider at every split\n",
    "max_features = ['log2', 'sqrt']\n",
    "# Maximum number of levels in tree\n",
    "max_depths = [int(x) for x in np.linspace(20, 60, num = 5)]\n",
    "max_depths.append(None)\n",
    "# Minimum number of samples required to split a node\n",
    "min_samples_splits = [2, 5, 10]\n",
    "# Minimum number of samples required at each leaf node\n",
    "min_samples_leafs = [1, 2, 4]\n",
    "# Method of selecting samples for training each tree\n",
    "bootstraps = [True, False]\n",
    "\n",
    "\n",
    "random_grid = {'n_estimators': n_estimators,\n",
    "               'max_features': max_features,\n",
    "               'max_depth': max_depths,\n",
    "               'min_samples_split': min_samples_splits,\n",
    "               'min_samples_leaf': min_samples_leafs,\n",
    "               'bootstrap': bootstraps}\n",
    "\n",
    "\n",
    "\n",
    "\n",
    "\n",
    "\n",
    "kappa_eval = make_scorer(cohen_kappa_score)\n",
    "\n",
    "\n",
    "rf = RandomForestClassifier()\n",
    "rf_random = RandomizedSearchCV(\n",
    "    estimator = rf, param_distributions = random_grid,\n",
    "     n_iter = 100, cv = 3, verbose=2, random_state=13,\n",
    "     n_jobs = 4, scoring=kappa_eval\n",
    ")\n",
    "# Fit the random search model\n",
    "rf_random.fit(train_data, adoptionSpeed)\n",
    "best_random = rf_random.best_estimator_\n",
    "print(best_random)\n",
    "ans = best_random.predict(test_data)\n",
    "\n",
    "kappa_score = score_solution.kappa(ans,correct_ans)\n",
    "kappa_score\n",
    "\n",
    "best_random"
   ]
  },
  {
   "cell_type": "code",
   "execution_count": 10,
   "metadata": {},
   "outputs": [
    {
     "data": {
      "text/plain": [
       "0.23556388352643143"
      ]
     },
     "execution_count": 10,
     "metadata": {},
     "output_type": "execute_result"
    }
   ],
   "source": [
    "kappa_score\n",
    "\n",
    "# from sklearn.ensemble import ExtraTreesClassifier\n",
    "\n",
    "\n",
    "# extra_model = ExtraTreesClassifier(bootstrap=True, class_weight=None, criterion='gini',\n",
    "#             max_depth=40, max_features='log2', max_leaf_nodes=None,\n",
    "#             min_impurity_decrease=0.0, min_impurity_split=None,\n",
    "#             min_samples_leaf=2, min_samples_split=6,\n",
    "#             min_weight_fraction_leaf=0.0, n_estimators=630, n_jobs=None,\n",
    "#             oob_score=False, random_state=None, verbose=0,\n",
    "#             warm_start=False)\n",
    "\n",
    "# extra_model.fit(train_data, adoptionSpeed)\n",
    "\n",
    "# ans = extra_model.predict(test_data)\n",
    "\n",
    "# kappa_score = score_solution.kappa(ans,correct_ans)\n",
    "# kappa_score\n",
    "\n",
    "\n",
    "\n"
   ]
  },
  {
   "cell_type": "code",
   "execution_count": 49,
   "metadata": {},
   "outputs": [
    {
     "data": {
      "text/plain": [
       "0.19660782051518066"
      ]
     },
     "execution_count": 49,
     "metadata": {},
     "output_type": "execute_result"
    }
   ],
   "source": [
    "from sklearn.ensemble import AdaBoostClassifier\n",
    "\n",
    "\n",
    "agb_model = AdaBoostClassifier(learning_rate=0.1, n_estimators=1000,\n",
    "                           algorithm='SAMME.R', base_estimator=DecisionTreeClassifier(max_depth=2))\n",
    "\n",
    "\n",
    "agb_model.fit(train_data, adoptionSpeed)\n",
    "\n",
    "ans = agb_model.predict(test_data)\n",
    "\n",
    "kappa_score = score_solution.kappa(ans,correct_ans)\n",
    "kappa_score\n",
    "\n"
   ]
  },
  {
   "cell_type": "code",
   "execution_count": 50,
   "metadata": {},
   "outputs": [
    {
     "data": {
      "text/plain": [
       "0.2061097838449416"
      ]
     },
     "execution_count": 50,
     "metadata": {},
     "output_type": "execute_result"
    }
   ],
   "source": [
    "from sklearn.ensemble import GradientBoostingClassifier\n",
    "\n",
    "gbc_model = GradientBoostingClassifier(n_estimators=1000, learning_rate=0.1,\n",
    "     max_depth=2)\n",
    "\n",
    "gbc_model.fit(train_data, adoptionSpeed)\n",
    "\n",
    "ans = gbc_model.predict(test_data)\n",
    "\n",
    "kappa_score = score_solution.kappa(ans,correct_ans)\n",
    "kappa_score"
   ]
  },
  {
   "cell_type": "code",
   "execution_count": 52,
   "metadata": {},
   "outputs": [
    {
     "data": {
      "text/plain": [
       "0.22060947803154352"
      ]
     },
     "execution_count": 52,
     "metadata": {},
     "output_type": "execute_result"
    }
   ],
   "source": [
    "from sklearn.ensemble import VotingClassifier\n",
    "\n",
    "\n",
    "gbc_model = GradientBoostingClassifier(n_estimators=1000, learning_rate=0.1,\n",
    "     max_depth=2)\n",
    "agb_model = AdaBoostClassifier(learning_rate=0.1, n_estimators=1000,\n",
    "                           algorithm='SAMME.R', base_estimator=DecisionTreeClassifier(max_depth=2))\n",
    "extra_model = ExtraTreesClassifier(bootstrap=True, class_weight=None, criterion='gini',\n",
    "            max_depth=40, max_features='log2', max_leaf_nodes=None,\n",
    "            min_impurity_decrease=0.0, min_impurity_split=None,\n",
    "            min_samples_leaf=2, min_samples_split=6,\n",
    "            min_weight_fraction_leaf=0.0, n_estimators=630, n_jobs=None,\n",
    "            oob_score=False, random_state=None, verbose=0,\n",
    "            warm_start=False)\n",
    "\n",
    "rf_model = RandomForestClassifier(bootstrap=True, class_weight=None, criterion='gini',\n",
    "            max_depth=40, max_features='log2', max_leaf_nodes=None,\n",
    "            min_impurity_decrease=0.0, min_impurity_split=None,\n",
    "            min_samples_leaf=2, min_samples_split=6,\n",
    "            min_weight_fraction_leaf=0.0, n_estimators=630, n_jobs=None,\n",
    "            oob_score=False, random_state=None, verbose=0,\n",
    "            warm_start=False)\n",
    "bagging_model = BaggingClassifier(DecisionTreeClassifier(), n_estimators = 500,\n",
    "                            max_samples=0.5, max_features=0.5)\n",
    "\n",
    "parameters = {\n",
    "    'learning_rate':0.01,'max_depth':4,\n",
    "    'subsample':0.8,'objective':'binary:logistic',\n",
    "    'num_class':5, 'n_jobs':4,  'n_estimators':1000}\n",
    "\n",
    "xgb_model = xgb.XGBClassifier(**parameters)\n",
    "\n",
    "classifiers = [\n",
    "    ('gbc', gbc_model), ('agb', agb_model),\n",
    "    ('extra', extra_model), ('rf', rf_model),\n",
    "    ('bagging', bagging_model), (\"xgb\", xgb_model)\n",
    "]\n",
    "\n",
    "voting_model = VotingClassifier(estimators=classifiers, voting='hard')\n",
    "\n",
    "voting_model.fit(train_data, adoptionSpeed)\n",
    "\n",
    "ans = voting_model.predict(test_data)\n",
    "\n",
    "kappa_score = score_solution.kappa(ans,correct_ans)\n",
    "kappa_score\n"
   ]
  },
  {
   "cell_type": "code",
   "execution_count": null,
   "metadata": {},
   "outputs": [],
   "source": []
  }
 ],
 "metadata": {
  "kernelspec": {
   "display_name": "Python 3",
   "language": "python",
   "name": "python3"
  },
  "language_info": {
   "codemirror_mode": {
    "name": "ipython",
    "version": 3
   },
   "file_extension": ".py",
   "mimetype": "text/x-python",
   "name": "python",
   "nbconvert_exporter": "python",
   "pygments_lexer": "ipython3",
   "version": "3.6.7"
  }
 },
 "nbformat": 4,
 "nbformat_minor": 2
}
